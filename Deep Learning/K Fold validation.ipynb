{
 "cells": [
  {
   "cell_type": "code",
   "execution_count": 28,
   "metadata": {},
   "outputs": [],
   "source": [
    "import numpy as np\n",
    "import matplotlib.pyplot as plt\n",
    "\n",
    "import tensorflow.keras\n",
    "from tensorflow.keras import models, layers\n",
    "from tensorflow.keras.datasets import mnist\n",
    "from sklearn.model_selection import StratifiedKFold"
   ]
  },
  {
   "cell_type": "code",
   "execution_count": 23,
   "metadata": {},
   "outputs": [],
   "source": [
    "(X_train, y_train), (X_test, y_test) = mnist.load_data()"
   ]
  },
  {
   "cell_type": "code",
   "execution_count": 5,
   "metadata": {},
   "outputs": [
    {
     "data": {
      "text/plain": [
       "(60000, 28, 28)"
      ]
     },
     "execution_count": 5,
     "metadata": {},
     "output_type": "execute_result"
    }
   ],
   "source": [
    "X_train.shape"
   ]
  },
  {
   "cell_type": "code",
   "execution_count": 26,
   "metadata": {},
   "outputs": [],
   "source": [
    "def build_network():\n",
    "    network = models.Sequential()\n",
    "    network.add(layers.Dense(512, activation = \"relu\", input_shape = (28 * 28,)))\n",
    "    network.add(layers.Dense(10, activation = \"softmax\"))\n",
    "    network.compile(loss=\"sparse_categorical_crossentropy\",\n",
    "              optimizer=tensorflow.keras.optimizers.Adadelta(),\n",
    "              metrics=['accuracy'])\n",
    "    return network"
   ]
  },
  {
   "cell_type": "code",
   "execution_count": 24,
   "metadata": {},
   "outputs": [],
   "source": [
    "X_train = X_train.reshape((60000, 28 * 28))\n",
    "X_test = X_test.reshape((10000, 28 * 28))\n",
    "X_train = X_train / 255\n",
    "X_test = X_test / 255\n",
    "\n",
    "# from keras.utils import to_categorical\n",
    "# y_train = to_categorical(y_train, 10) # 10 is number of classes\n",
    "# y_test = to_categorical(y_test, 10)"
   ]
  },
  {
   "cell_type": "code",
   "execution_count": 11,
   "metadata": {},
   "outputs": [
    {
     "data": {
      "text/plain": [
       "<matplotlib.image.AxesImage at 0x1c64a09ac18>"
      ]
     },
     "execution_count": 11,
     "metadata": {},
     "output_type": "execute_result"
    },
    {
     "data": {
      "image/png": "[encoded data removed]",
      "text/plain": [
       "<Figure size 432x288 with 1 Axes>"
      ]
     },
     "metadata": {
      "needs_background": "light"
     },
     "output_type": "display_data"
    }
   ],
   "source": [
    "plt.imshow(X_train[0].reshape(28, 28), cmap = plt.cm.binary)"
   ]
  },
  {
   "cell_type": "code",
   "execution_count": 12,
   "metadata": {},
   "outputs": [
    {
     "data": {
      "text/plain": [
       "array([0., 0., 0., 0., 0., 1., 0., 0., 0., 0.], dtype=float32)"
      ]
     },
     "execution_count": 12,
     "metadata": {},
     "output_type": "execute_result"
    }
   ],
   "source": [
    "y_train[0]"
   ]
  },
  {
   "cell_type": "markdown",
   "metadata": {},
   "source": [
    "## Performing K-Fold Validation on Training Set"
   ]
  },
  {
   "cell_type": "code",
   "execution_count": 34,
   "metadata": {
    "scrolled": true
   },
   "outputs": [
    {
     "name": "stdout",
     "output_type": "stream",
     "text": [
      "Processing fold # 1\n",
      "Train on 47995 samples\n",
      "Epoch 1/10\n",
      "47995/47995 [==============================] - 2s 36us/sample - loss: 2.2846 - accuracy: 0.1634\n",
      "Epoch 2/10\n",
      "47995/47995 [==============================] - 1s 31us/sample - loss: 2.1638 - accuracy: 0.2788\n",
      "Epoch 3/10\n",
      "47995/47995 [==============================] - 2s 31us/sample - loss: 2.0483 - accuracy: 0.4291\n",
      "Epoch 4/10\n",
      "47995/47995 [==============================] - 2s 32us/sample - loss: 1.9388 - accuracy: 0.5440\n",
      "Epoch 5/10\n",
      "47995/47995 [==============================] - 2s 32us/sample - loss: 1.8348 - accuracy: 0.6211\n",
      "Epoch 6/10\n",
      "47995/47995 [==============================] - 2s 32us/sample - loss: 1.7363 - accuracy: 0.6723\n",
      "Epoch 7/10\n",
      "47995/47995 [==============================] - 2s 33us/sample - loss: 1.6435 - accuracy: 0.7088\n",
      "Epoch 8/10\n",
      "47995/47995 [==============================] - 2s 34us/sample - loss: 1.5563 - accuracy: 0.7346\n",
      "Epoch 9/10\n",
      "47995/47995 [==============================] - 2s 34us/sample - loss: 1.4745 - accuracy: 0.7541\n",
      "Epoch 10/10\n",
      "47995/47995 [==============================] - 2s 34us/sample - loss: 1.3982 - accuracy: 0.7689\n",
      "Processing fold # 2\n",
      "Train on 47998 samples\n",
      "Epoch 1/10\n",
      "47998/47998 [==============================] - 2s 46us/sample - loss: 2.3214 - accuracy: 0.1092\n",
      "Epoch 2/10\n",
      "47998/47998 [==============================] - 2s 44us/sample - loss: 2.1932 - accuracy: 0.2003\n",
      "Epoch 3/10\n",
      "47998/47998 [==============================] - 2s 44us/sample - loss: 2.0740 - accuracy: 0.3161\n",
      "Epoch 4/10\n",
      "47998/47998 [==============================] - 2s 43us/sample - loss: 1.9630 - accuracy: 0.4390\n",
      "Epoch 5/10\n",
      "47998/47998 [==============================] - 2s 43us/sample - loss: 1.8595 - accuracy: 0.5391\n",
      "Epoch 6/10\n",
      "47998/47998 [==============================] - 2s 42us/sample - loss: 1.7624 - accuracy: 0.6109\n",
      "Epoch 7/10\n",
      "47998/47998 [==============================] - 2s 42us/sample - loss: 1.6706 - accuracy: 0.6652\n",
      "Epoch 8/10\n",
      "47998/47998 [==============================] - 2s 42us/sample - loss: 1.5842 - accuracy: 0.7044\n",
      "Epoch 9/10\n",
      "47998/47998 [==============================] - 2s 43us/sample - loss: 1.5027 - accuracy: 0.7322\n",
      "Epoch 10/10\n",
      "47998/47998 [==============================] - 2s 42us/sample - loss: 1.4263 - accuracy: 0.7543\n",
      "Processing fold # 3\n",
      "Train on 48000 samples\n",
      "Epoch 1/10\n",
      "48000/48000 [==============================] - 2s 45us/sample - loss: 2.2984 - accuracy: 0.1150\n",
      "Epoch 2/10\n",
      "48000/48000 [==============================] - 2s 42us/sample - loss: 2.1717 - accuracy: 0.2037\n",
      "Epoch 3/10\n",
      "48000/48000 [==============================] - 2s 43us/sample - loss: 2.0538 - accuracy: 0.3525\n",
      "Epoch 4/10\n",
      "48000/48000 [==============================] - 2s 43us/sample - loss: 1.9438 - accuracy: 0.4940\n",
      "Epoch 5/10\n",
      "48000/48000 [==============================] - 2s 43us/sample - loss: 1.8411 - accuracy: 0.5880\n",
      "Epoch 6/10\n",
      "48000/48000 [==============================] - 2s 43us/sample - loss: 1.7449 - accuracy: 0.6467\n",
      "Epoch 7/10\n",
      "48000/48000 [==============================] - 2s 42us/sample - loss: 1.6544 - accuracy: 0.6868\n",
      "Epoch 8/10\n",
      "48000/48000 [==============================] - 2s 42us/sample - loss: 1.5690 - accuracy: 0.7137\n",
      "Epoch 9/10\n",
      "48000/48000 [==============================] - 2s 43us/sample - loss: 1.4889 - accuracy: 0.7339\n",
      "Epoch 10/10\n",
      "48000/48000 [==============================] - 2s 43us/sample - loss: 1.4139 - accuracy: 0.7509\n",
      "Processing fold # 4\n",
      "Train on 48003 samples\n",
      "Epoch 1/10\n",
      "48003/48003 [==============================] - 2s 46us/sample - loss: 2.2718 - accuracy: 0.1559\n",
      "Epoch 2/10\n",
      "48003/48003 [==============================] - 2s 43us/sample - loss: 2.1476 - accuracy: 0.2806\n",
      "Epoch 3/10\n",
      "48003/48003 [==============================] - 2s 43us/sample - loss: 2.0338 - accuracy: 0.4129\n",
      "Epoch 4/10\n",
      "48003/48003 [==============================] - 2s 43us/sample - loss: 1.9273 - accuracy: 0.5245\n",
      "Epoch 5/10\n",
      "48003/48003 [==============================] - 2s 43us/sample - loss: 1.8280 - accuracy: 0.6031\n",
      "Epoch 6/10\n",
      "48003/48003 [==============================] - 2s 43us/sample - loss: 1.7343 - accuracy: 0.6564\n",
      "Epoch 7/10\n",
      "48003/48003 [==============================] - 2s 43us/sample - loss: 1.6458 - accuracy: 0.6922\n",
      "Epoch 8/10\n",
      "48003/48003 [==============================] - 2s 43us/sample - loss: 1.5626 - accuracy: 0.7178\n",
      "Epoch 9/10\n",
      "48003/48003 [==============================] - 2s 43us/sample - loss: 1.4846 - accuracy: 0.7376\n",
      "Epoch 10/10\n",
      "48003/48003 [==============================] - 2s 46us/sample - loss: 1.4120 - accuracy: 0.7529\n",
      "Processing fold # 5\n",
      "Train on 48004 samples\n",
      "Epoch 1/10\n",
      "48004/48004 [==============================] - 2s 49us/sample - loss: 2.2833 - accuracy: 0.1159\n",
      "Epoch 2/10\n",
      "48004/48004 [==============================] - 2s 45us/sample - loss: 2.1660 - accuracy: 0.2423\n",
      "Epoch 3/10\n",
      "48004/48004 [==============================] - 2s 43us/sample - loss: 2.0562 - accuracy: 0.3989\n",
      "Epoch 4/10\n",
      "48004/48004 [==============================] - 2s 43us/sample - loss: 1.9518 - accuracy: 0.5161\n",
      "Epoch 5/10\n",
      "48004/48004 [==============================] - 2s 43us/sample - loss: 1.8524 - accuracy: 0.5960\n",
      "Epoch 6/10\n",
      "48004/48004 [==============================] - 2s 43us/sample - loss: 1.7581 - accuracy: 0.6470\n",
      "Epoch 7/10\n",
      "48004/48004 [==============================] - 2s 44us/sample - loss: 1.6686 - accuracy: 0.6836\n",
      "Epoch 8/10\n",
      "48004/48004 [==============================] - 2s 45us/sample - loss: 1.5841 - accuracy: 0.7111\n",
      "Epoch 9/10\n",
      "48004/48004 [==============================] - 2s 42us/sample - loss: 1.5049 - accuracy: 0.7317\n",
      "Epoch 10/10\n",
      "48004/48004 [==============================] - 2s 42us/sample - loss: 1.4304 - accuracy: 0.7504\n"
     ]
    }
   ],
   "source": [
    "kfold = StratifiedKFold(n_splits = 5, shuffle = True, random_state = 0)\n",
    "\n",
    "cv_scores = []\n",
    "i = 1\n",
    "\n",
    "for train, test in kfold.split(X_train, y_train):\n",
    "    print(\"Processing fold #\", i)\n",
    "    network = build_network()\n",
    "    network.fit(X_train[train], y_train[train], epochs = 10, batch_size = 128, verbose = 1)\n",
    "    scores = network.evaluate(X_train[test], y_train[test], verbose = 0)\n",
    "    cv_scores.append(scores[1])\n",
    "    i += 1"
   ]
  },
  {
   "cell_type": "code",
   "execution_count": 35,
   "metadata": {},
   "outputs": [
    {
     "name": "stdout",
     "output_type": "stream",
     "text": [
      "CV SCORES:\n",
      " [0.7695127, 0.7607899, 0.75958335, 0.7610236, 0.7600867]\n"
     ]
    }
   ],
   "source": [
    "print(\"CV SCORES:\\n\", cv_scores)"
   ]
  },
  {
   "cell_type": "code",
   "execution_count": 36,
   "metadata": {},
   "outputs": [
    {
     "name": "stdout",
     "output_type": "stream",
     "text": [
      "MEAN CV SCORES:  0.7621993\n"
     ]
    }
   ],
   "source": [
    "print(\"MEAN CV SCORES: \", np.mean(cv_scores))"
   ]
  },
  {
   "cell_type": "code",
   "execution_count": 37,
   "metadata": {},
   "outputs": [],
   "source": [
    "val_X = X_train[:10000]\n",
    "val_y = y_train[:10000]\n",
    "\n",
    "X = X_train[10000:]\n",
    "y = y_train[10000:]"
   ]
  },
  {
   "cell_type": "code",
   "execution_count": 39,
   "metadata": {
    "scrolled": true
   },
   "outputs": [
    {
     "name": "stdout",
     "output_type": "stream",
     "text": [
      "Train on 50000 samples, validate on 10000 samples\n",
      "Epoch 1/50\n",
      "50000/50000 [==============================] - 2s 42us/sample - loss: 2.3121 - accuracy: 0.1395 - val_loss: 2.2505 - val_accuracy: 0.1711\n",
      "Epoch 2/50\n",
      "50000/50000 [==============================] - 2s 38us/sample - loss: 2.1853 - accuracy: 0.2158 - val_loss: 2.1225 - val_accuracy: 0.2692\n",
      "Epoch 3/50\n",
      "50000/50000 [==============================] - 2s 37us/sample - loss: 2.0650 - accuracy: 0.3429 - val_loss: 2.0025 - val_accuracy: 0.4279\n",
      "Epoch 4/50\n",
      "50000/50000 [==============================] - 2s 38us/sample - loss: 1.9515 - accuracy: 0.4887 - val_loss: 1.8894 - val_accuracy: 0.5562\n",
      "Epoch 5/50\n",
      "50000/50000 [==============================] - 2s 39us/sample - loss: 1.8444 - accuracy: 0.6027 - val_loss: 1.7833 - val_accuracy: 0.6446\n",
      "Epoch 6/50\n",
      "50000/50000 [==============================] - 2s 39us/sample - loss: 1.7433 - accuracy: 0.6696 - val_loss: 1.6834 - val_accuracy: 0.6922\n",
      "Epoch 7/50\n",
      "50000/50000 [==============================] - 2s 41us/sample - loss: 1.6482 - accuracy: 0.7084 - val_loss: 1.5902 - val_accuracy: 0.7260\n",
      "Epoch 8/50\n",
      "50000/50000 [==============================] - 2s 42us/sample - loss: 1.5592 - accuracy: 0.7346 - val_loss: 1.5032 - val_accuracy: 0.7492\n",
      "Epoch 9/50\n",
      "50000/50000 [==============================] - 2s 42us/sample - loss: 1.4761 - accuracy: 0.7543 - val_loss: 1.4225 - val_accuracy: 0.7650\n",
      "Epoch 10/50\n",
      "50000/50000 [==============================] - 2s 41us/sample - loss: 1.3990 - accuracy: 0.7678 - val_loss: 1.3481 - val_accuracy: 0.7765\n",
      "Epoch 11/50\n",
      "50000/50000 [==============================] - 2s 41us/sample - loss: 1.3278 - accuracy: 0.7796 - val_loss: 1.2796 - val_accuracy: 0.7881\n",
      "Epoch 12/50\n",
      "50000/50000 [==============================] - 2s 42us/sample - loss: 1.2621 - accuracy: 0.7889 - val_loss: 1.2167 - val_accuracy: 0.7959\n",
      "Epoch 13/50\n",
      "50000/50000 [==============================] - 2s 43us/sample - loss: 1.2018 - accuracy: 0.7961 - val_loss: 1.1591 - val_accuracy: 0.8024\n",
      "Epoch 14/50\n",
      "50000/50000 [==============================] - 2s 42us/sample - loss: 1.1465 - accuracy: 0.8015 - val_loss: 1.1064 - val_accuracy: 0.8079\n",
      "Epoch 15/50\n",
      "50000/50000 [==============================] - 2s 42us/sample - loss: 1.0958 - accuracy: 0.8069 - val_loss: 1.0583 - val_accuracy: 0.8129\n",
      "Epoch 16/50\n",
      "50000/50000 [==============================] - 2s 43us/sample - loss: 1.0494 - accuracy: 0.8116 - val_loss: 1.0142 - val_accuracy: 0.8179\n",
      "Epoch 17/50\n",
      "50000/50000 [==============================] - 2s 42us/sample - loss: 1.0069 - accuracy: 0.8161 - val_loss: 0.9738 - val_accuracy: 0.8212\n",
      "Epoch 18/50\n",
      "50000/50000 [==============================] - 2s 43us/sample - loss: 0.9678 - accuracy: 0.8204 - val_loss: 0.9369 - val_accuracy: 0.8254\n",
      "Epoch 19/50\n",
      "50000/50000 [==============================] - 2s 44us/sample - loss: 0.9321 - accuracy: 0.8243 - val_loss: 0.9031 - val_accuracy: 0.8280\n",
      "Epoch 20/50\n",
      "50000/50000 [==============================] - 2s 43us/sample - loss: 0.8994 - accuracy: 0.8276 - val_loss: 0.8722 - val_accuracy: 0.8320\n",
      "Epoch 21/50\n",
      "50000/50000 [==============================] - 2s 42us/sample - loss: 0.8694 - accuracy: 0.8309 - val_loss: 0.8437 - val_accuracy: 0.8356\n",
      "Epoch 22/50\n",
      "50000/50000 [==============================] - 2s 44us/sample - loss: 0.8416 - accuracy: 0.8337 - val_loss: 0.8174 - val_accuracy: 0.8396\n",
      "Epoch 23/50\n",
      "50000/50000 [==============================] - 2s 43us/sample - loss: 0.8161 - accuracy: 0.8365 - val_loss: 0.7932 - val_accuracy: 0.8425\n",
      "Epoch 24/50\n",
      "50000/50000 [==============================] - 2s 43us/sample - loss: 0.7925 - accuracy: 0.8389 - val_loss: 0.7708 - val_accuracy: 0.8441\n",
      "Epoch 25/50\n",
      "50000/50000 [==============================] - 2s 43us/sample - loss: 0.7706 - accuracy: 0.8411 - val_loss: 0.7500 - val_accuracy: 0.8465\n",
      "Epoch 26/50\n",
      "50000/50000 [==============================] - 2s 43us/sample - loss: 0.7504 - accuracy: 0.8431 - val_loss: 0.7309 - val_accuracy: 0.8493\n",
      "Epoch 27/50\n",
      "50000/50000 [==============================] - 2s 43us/sample - loss: 0.7316 - accuracy: 0.8458 - val_loss: 0.7130 - val_accuracy: 0.8510\n",
      "Epoch 28/50\n",
      "50000/50000 [==============================] - 2s 44us/sample - loss: 0.7141 - accuracy: 0.8477 - val_loss: 0.6963 - val_accuracy: 0.8528\n",
      "Epoch 29/50\n",
      "50000/50000 [==============================] - 2s 47us/sample - loss: 0.6977 - accuracy: 0.8497 - val_loss: 0.6807 - val_accuracy: 0.8548\n",
      "Epoch 30/50\n",
      "50000/50000 [==============================] - 2s 49us/sample - loss: 0.6825 - accuracy: 0.8520 - val_loss: 0.6661 - val_accuracy: 0.8573\n",
      "Epoch 31/50\n",
      "50000/50000 [==============================] - 2s 47us/sample - loss: 0.6683 - accuracy: 0.8539 - val_loss: 0.6525 - val_accuracy: 0.8596\n",
      "Epoch 32/50\n",
      "50000/50000 [==============================] - 2s 48us/sample - loss: 0.6549 - accuracy: 0.8554 - val_loss: 0.6397 - val_accuracy: 0.8610\n",
      "Epoch 33/50\n",
      "50000/50000 [==============================] - 2s 46us/sample - loss: 0.6423 - accuracy: 0.8574 - val_loss: 0.6277 - val_accuracy: 0.8622\n",
      "Epoch 34/50\n",
      "50000/50000 [==============================] - 2s 43us/sample - loss: 0.6305 - accuracy: 0.8593 - val_loss: 0.6164 - val_accuracy: 0.8636\n",
      "Epoch 35/50\n",
      "50000/50000 [==============================] - 2s 43us/sample - loss: 0.6194 - accuracy: 0.8609 - val_loss: 0.6057 - val_accuracy: 0.8650\n",
      "Epoch 36/50\n",
      "50000/50000 [==============================] - 2s 44us/sample - loss: 0.6089 - accuracy: 0.8624 - val_loss: 0.5956 - val_accuracy: 0.8671\n",
      "Epoch 37/50\n",
      "50000/50000 [==============================] - 2s 45us/sample - loss: 0.5990 - accuracy: 0.8638 - val_loss: 0.5860 - val_accuracy: 0.8685\n",
      "Epoch 38/50\n",
      "50000/50000 [==============================] - 2s 44us/sample - loss: 0.5896 - accuracy: 0.8647 - val_loss: 0.5770 - val_accuracy: 0.8701\n",
      "Epoch 39/50\n",
      "50000/50000 [==============================] - 2s 45us/sample - loss: 0.5807 - accuracy: 0.8660 - val_loss: 0.5684 - val_accuracy: 0.8712\n",
      "Epoch 40/50\n",
      "50000/50000 [==============================] - 2s 45us/sample - loss: 0.5723 - accuracy: 0.8671 - val_loss: 0.5602 - val_accuracy: 0.8719\n",
      "Epoch 41/50\n",
      "50000/50000 [==============================] - 2s 45us/sample - loss: 0.5642 - accuracy: 0.8685 - val_loss: 0.5525 - val_accuracy: 0.8734\n",
      "Epoch 42/50\n",
      "50000/50000 [==============================] - 2s 44us/sample - loss: 0.5566 - accuracy: 0.8695 - val_loss: 0.5451 - val_accuracy: 0.8751\n",
      "Epoch 43/50\n",
      "50000/50000 [==============================] - 2s 44us/sample - loss: 0.5494 - accuracy: 0.8708 - val_loss: 0.5381 - val_accuracy: 0.8758\n",
      "Epoch 44/50\n",
      "50000/50000 [==============================] - 2s 44us/sample - loss: 0.5425 - accuracy: 0.8717 - val_loss: 0.5314 - val_accuracy: 0.8765\n",
      "Epoch 45/50\n",
      "50000/50000 [==============================] - 2s 44us/sample - loss: 0.5358 - accuracy: 0.8729 - val_loss: 0.5250 - val_accuracy: 0.8777\n",
      "Epoch 46/50\n",
      "50000/50000 [==============================] - 2s 45us/sample - loss: 0.5295 - accuracy: 0.8737 - val_loss: 0.5188 - val_accuracy: 0.8781\n",
      "Epoch 47/50\n",
      "50000/50000 [==============================] - 2s 45us/sample - loss: 0.5235 - accuracy: 0.8746 - val_loss: 0.5130 - val_accuracy: 0.8793\n",
      "Epoch 48/50\n",
      "50000/50000 [==============================] - 2s 45us/sample - loss: 0.5177 - accuracy: 0.8755 - val_loss: 0.5074 - val_accuracy: 0.8801\n",
      "Epoch 49/50\n",
      "50000/50000 [==============================] - 2s 45us/sample - loss: 0.5122 - accuracy: 0.8764 - val_loss: 0.5020 - val_accuracy: 0.8813\n",
      "Epoch 50/50\n",
      "50000/50000 [==============================] - 2s 45us/sample - loss: 0.5069 - accuracy: 0.8772 - val_loss: 0.4969 - val_accuracy: 0.8825\n"
     ]
    }
   ],
   "source": [
    "network = build_network()\n",
    "history = network.fit(X, y, epochs = 50, batch_size = 128, validation_data = (val_X, val_y))"
   ]
  },
  {
   "cell_type": "code",
   "execution_count": 40,
   "metadata": {},
   "outputs": [],
   "source": [
    "def show_loss(hist):\n",
    "    epochs = range(1, len(hist['val_loss']) + 1)\n",
    "    loss = hist[\"loss\"]\n",
    "    val_loss = hist[\"val_loss\"]\n",
    "    plt.plot(epochs, loss, 'bo', label=\"Training Loss\")\n",
    "    plt.plot(epochs, loss, 'b', label = \"Validation Loss\")\n",
    "    plt.legend()\n",
    "    plt.show()"
   ]
  },
  {
   "cell_type": "code",
   "execution_count": 41,
   "metadata": {},
   "outputs": [
    {
     "data": {
      "image/png": "[encoded data removed]",
      "text/plain": [
       "<Figure size 432x288 with 1 Axes>"
      ]
     },
     "metadata": {
      "needs_background": "light"
     },
     "output_type": "display_data"
    }
   ],
   "source": [
    "show_loss(history.history)"
   ]
  },
  {
   "cell_type": "code",
   "execution_count": null,
   "metadata": {},
   "outputs": [],
   "source": []
  }
 ],
 "metadata": {
  "kernelspec": {
   "display_name": "Python 3",
   "language": "python",
   "name": "python3"
  },
  "language_info": {
   "codemirror_mode": {
    "name": "ipython",
    "version": 3
   },
   "file_extension": ".py",
   "mimetype": "text/x-python",
   "name": "python",
   "nbconvert_exporter": "python",
   "pygments_lexer": "ipython3",
   "version": "3.7.3"
  }
 },
 "nbformat": 4,
 "nbformat_minor": 2
}
