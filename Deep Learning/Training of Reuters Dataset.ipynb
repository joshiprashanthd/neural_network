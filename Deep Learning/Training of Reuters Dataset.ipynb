{
 "cells": [
  {
   "cell_type": "code",
   "execution_count": 1,
   "metadata": {},
   "outputs": [],
   "source": [
    "# Importing libraries\n",
    "import numpy as np\n",
    "import pandas as pd\n",
    "import matplotlib.pyplot as plt\n",
    "from tensorflow.keras.datasets import reuters"
   ]
  },
  {
   "cell_type": "code",
   "execution_count": 2,
   "metadata": {},
   "outputs": [],
   "source": [
    "# Fetching dataset\n",
    "(X_train, y_train), (X_test, y_test) = reuters.load_data(num_words=10000)"
   ]
  },
  {
   "cell_type": "code",
   "execution_count": 3,
   "metadata": {},
   "outputs": [
    {
     "data": {
      "text/plain": [
       "8982"
      ]
     },
     "execution_count": 3,
     "metadata": {},
     "output_type": "execute_result"
    }
   ],
   "source": [
    "len(X_train)"
   ]
  },
  {
   "cell_type": "code",
   "execution_count": 4,
   "metadata": {},
   "outputs": [
    {
     "data": {
      "text/plain": [
       "2246"
      ]
     },
     "execution_count": 4,
     "metadata": {},
     "output_type": "execute_result"
    }
   ],
   "source": [
    "len(X_test)"
   ]
  },
  {
   "cell_type": "code",
   "execution_count": 5,
   "metadata": {},
   "outputs": [
    {
     "name": "stdout",
     "output_type": "stream",
     "text": [
      "? ? ? said as a result of its december acquisition of space co it expects earnings per share in 1987 of 1 15 to 1 30 dlrs per share up from 70 cts in 1986 the company said pretax net should rise to nine to 10 mln dlrs from six mln dlrs in 1986 and rental operation revenues to 19 to 22 mln dlrs from 12 5 mln dlrs it said cash flow per share this year should be 2 50 to three dlrs reuter 3\n"
     ]
    }
   ],
   "source": [
    "# Decoding first newswire\n",
    "word_index = reuters.get_word_index()\n",
    "word_dict = dict([(value, key) for key, value in word_index.items()])\n",
    "first_newswire = ' '.join([word_dict.get(i - 3, '?') for i in X_train[0]])\n",
    "print(first_newswire)"
   ]
  },
  {
   "cell_type": "code",
   "execution_count": 6,
   "metadata": {},
   "outputs": [],
   "source": [
    "# One hot encoding of train and test data\n",
    "\n",
    "def encode(sequences, dimensions = 10000):\n",
    "    results = np.zeros((len(sequences), dimensions))\n",
    "    for i, sequence in enumerate(sequences):\n",
    "        results[i, sequence] = 1\n",
    "    return results\n",
    "\n",
    "X_train = encode(X_train)\n",
    "X_test = encode(X_test)"
   ]
  },
  {
   "cell_type": "code",
   "execution_count": 7,
   "metadata": {},
   "outputs": [],
   "source": [
    "# Using keras built in tools to one hot encode to labels\n",
    "from tensorflow.keras.utils import to_categorical\n",
    "y_train = to_categorical(y_train)\n",
    "y_test = to_categorical(y_test)"
   ]
  },
  {
   "cell_type": "markdown",
   "metadata": {},
   "source": [
    "## Building Neural Network"
   ]
  },
  {
   "cell_type": "code",
   "execution_count": 9,
   "metadata": {},
   "outputs": [],
   "source": [
    "# Making a neural network\n",
    "from tensorflow.keras import models, layers\n",
    "\n",
    "network = models.Sequential()\n",
    "network.add(layers.Dense(64, activation = \"relu\", input_shape = (10000,)))\n",
    "network.add(layers.Dense(64, activation = \"relu\"))\n",
    "network.add(layers.Dense(46, activation = \"softmax\"))"
   ]
  },
  {
   "cell_type": "markdown",
   "metadata": {},
   "source": [
    "We can see that, here we use *softmax* activation function. This activation is frequently used to output *probability distribution* of all categories."
   ]
  },
  {
   "cell_type": "code",
   "execution_count": 10,
   "metadata": {},
   "outputs": [],
   "source": [
    "network.compile(optimizer=\"rmsprop\", loss=\"categorical_crossentropy\", metrics=[\"accuracy\"])"
   ]
  },
  {
   "cell_type": "code",
   "execution_count": 11,
   "metadata": {},
   "outputs": [],
   "source": [
    "# Create validation sets\n",
    "val_X_train = X_train[:1000]\n",
    "X = X_train[1000:]\n",
    "\n",
    "val_y_train = y_train[:1000]\n",
    "y = y_train[1000:]"
   ]
  },
  {
   "cell_type": "code",
   "execution_count": 12,
   "metadata": {
    "scrolled": true
   },
   "outputs": [
    {
     "name": "stdout",
     "output_type": "stream",
     "text": [
      "Train on 7982 samples, validate on 1000 samples\n",
      "Epoch 1/20\n",
      "7982/7982 [==============================] - 3s 337us/sample - loss: 2.7046 - accuracy: 0.4944 - val_loss: 1.7809 - val_accuracy: 0.6490\n",
      "Epoch 2/20\n",
      "7982/7982 [==============================] - 1s 132us/sample - loss: 1.4546 - accuracy: 0.7112 - val_loss: 1.3256 - val_accuracy: 0.7180\n",
      "Epoch 3/20\n",
      "7982/7982 [==============================] - 1s 127us/sample - loss: 1.0699 - accuracy: 0.7838 - val_loss: 1.1777 - val_accuracy: 0.7500\n",
      "Epoch 4/20\n",
      "7982/7982 [==============================] - 1s 127us/sample - loss: 0.8568 - accuracy: 0.8218 - val_loss: 1.0542 - val_accuracy: 0.7760\n",
      "Epoch 5/20\n",
      "7982/7982 [==============================] - 1s 134us/sample - loss: 0.6881 - accuracy: 0.8564 - val_loss: 0.9970 - val_accuracy: 0.7910\n",
      "Epoch 6/20\n",
      "7982/7982 [==============================] - 1s 144us/sample - loss: 0.5594 - accuracy: 0.8850 - val_loss: 0.9509 - val_accuracy: 0.8050\n",
      "Epoch 7/20\n",
      "7982/7982 [==============================] - 1s 136us/sample - loss: 0.4527 - accuracy: 0.9057 - val_loss: 0.9669 - val_accuracy: 0.8050\n",
      "Epoch 8/20\n",
      "7982/7982 [==============================] - 1s 138us/sample - loss: 0.3713 - accuracy: 0.9230 - val_loss: 0.8990 - val_accuracy: 0.8190\n",
      "Epoch 9/20\n",
      "7982/7982 [==============================] - 1s 138us/sample - loss: 0.3082 - accuracy: 0.9328 - val_loss: 0.8941 - val_accuracy: 0.8200\n",
      "Epoch 10/20\n",
      "7982/7982 [==============================] - 1s 136us/sample - loss: 0.2568 - accuracy: 0.9421 - val_loss: 0.9212 - val_accuracy: 0.8250\n",
      "Epoch 11/20\n",
      "7982/7982 [==============================] - 1s 140us/sample - loss: 0.2262 - accuracy: 0.9455 - val_loss: 0.9610 - val_accuracy: 0.8130\n",
      "Epoch 12/20\n",
      "7982/7982 [==============================] - 1s 138us/sample - loss: 0.1919 - accuracy: 0.9508 - val_loss: 0.9521 - val_accuracy: 0.8160\n",
      "Epoch 13/20\n",
      "7982/7982 [==============================] - 1s 139us/sample - loss: 0.1758 - accuracy: 0.9534 - val_loss: 0.9683 - val_accuracy: 0.8140\n",
      "Epoch 14/20\n",
      "7982/7982 [==============================] - 1s 139us/sample - loss: 0.1608 - accuracy: 0.9555 - val_loss: 0.9678 - val_accuracy: 0.8150\n",
      "Epoch 15/20\n",
      "7982/7982 [==============================] - 1s 136us/sample - loss: 0.1466 - accuracy: 0.9560 - val_loss: 1.0115 - val_accuracy: 0.8100\n",
      "Epoch 16/20\n",
      "7982/7982 [==============================] - 1s 138us/sample - loss: 0.1411 - accuracy: 0.9548 - val_loss: 1.0150 - val_accuracy: 0.8100\n",
      "Epoch 17/20\n",
      "7982/7982 [==============================] - 1s 135us/sample - loss: 0.1276 - accuracy: 0.9574 - val_loss: 1.0898 - val_accuracy: 0.8050\n",
      "Epoch 18/20\n",
      "7982/7982 [==============================] - 1s 133us/sample - loss: 0.1269 - accuracy: 0.9570 - val_loss: 1.0726 - val_accuracy: 0.8050\n",
      "Epoch 19/20\n",
      "7982/7982 [==============================] - 1s 137us/sample - loss: 0.1157 - accuracy: 0.9590 - val_loss: 1.0444 - val_accuracy: 0.8120\n",
      "Epoch 20/20\n",
      "7982/7982 [==============================] - 1s 140us/sample - loss: 0.1152 - accuracy: 0.9584 - val_loss: 1.1857 - val_accuracy: 0.7910\n"
     ]
    }
   ],
   "source": [
    "history = network.fit(X, y, epochs = 20, batch_size = 512, validation_data = (val_X_train, val_y_train))"
   ]
  },
  {
   "cell_type": "code",
   "execution_count": 13,
   "metadata": {},
   "outputs": [],
   "source": [
    "def show_loss(h_dict):\n",
    "    loss = h_dict[\"loss\"]\n",
    "    val_loss = h_dict[\"val_loss\"]\n",
    "    epochs = range(1, len(loss)+1)\n",
    "#     plt.ylim(0, 1)\n",
    "#     plt.xlim(0, len(loss)+1)\n",
    "#     plt.axis(\"scaled\")\n",
    "    plt.plot(epochs, loss, \"bo\", label = \"Training Loss\")\n",
    "    plt.plot(epochs, val_loss, \"b\", label = \"Validation Loss\")\n",
    "    plt.xlabel(\"Epochs\")\n",
    "    plt.ylabel(\"Loss\")\n",
    "    plt.legend()\n",
    "    plt.show()\n",
    "\n",
    "def show_accuracy(h_dict):\n",
    "    acc = h_dict[\"accuracy\"]\n",
    "    val_acc = h_dict[\"val_accuracy\"]\n",
    "    epochs = range(1, len(acc)+1)\n",
    "#     plt.ylim(0, 1)\n",
    "#     plt.xlim(0, len(acc)+1)\n",
    "#     plt.axis(\"scaled\")\n",
    "    plt.plot(epochs, acc, \"bo\", label = \"Training Accuracy\")\n",
    "    plt.plot(epochs, val_acc, \"b\", label = \"Validation Accuracy\")\n",
    "    plt.xlabel(\"Epochs\")\n",
    "    plt.ylabel(\"Accuracy\")\n",
    "    plt.legend()\n",
    "    plt.show()"
   ]
  },
  {
   "cell_type": "code",
   "execution_count": 14,
   "metadata": {},
   "outputs": [
    {
     "data": {
      "image/png": "[encoded data removed]",
      "text/plain": [
       "<Figure size 432x288 with 1 Axes>"
      ]
     },
     "metadata": {
      "needs_background": "light"
     },
     "output_type": "display_data"
    }
   ],
   "source": [
    "show_loss(history.history)"
   ]
  },
  {
   "cell_type": "code",
   "execution_count": 15,
   "metadata": {},
   "outputs": [
    {
     "data": {
      "image/png": "[encoded data removed]",
      "text/plain": [
       "<Figure size 432x288 with 1 Axes>"
      ]
     },
     "metadata": {
      "needs_background": "light"
     },
     "output_type": "display_data"
    }
   ],
   "source": [
    "show_accuracy(history.history)"
   ]
  },
  {
   "cell_type": "markdown",
   "metadata": {},
   "source": [
    "## Fitting original data into Network"
   ]
  },
  {
   "cell_type": "code",
   "execution_count": 16,
   "metadata": {},
   "outputs": [],
   "source": [
    "network = models.Sequential()\n",
    "network.add(layers.Dense(64, activation = \"relu\", input_shape = (10000,)))\n",
    "network.add(layers.Dense(64, activation = \"relu\"))\n",
    "network.add(layers.Dense(46, activation = \"softmax\"))\n",
    "network.compile(optimizer = \"rmsprop\", loss=\"categorical_crossentropy\", metrics = [\"accuracy\"])"
   ]
  },
  {
   "cell_type": "code",
   "execution_count": 17,
   "metadata": {
    "scrolled": true
   },
   "outputs": [
    {
     "name": "stdout",
     "output_type": "stream",
     "text": [
      "Train on 8982 samples, validate on 2246 samples\n",
      "Epoch 1/10\n",
      "8982/8982 [==============================] - 2s 253us/sample - loss: 2.5684 - accuracy: 0.5220 - val_loss: 1.6983 - val_accuracy: 0.6434\n",
      "Epoch 2/10\n",
      "8982/8982 [==============================] - 1s 142us/sample - loss: 1.3712 - accuracy: 0.7017 - val_loss: 1.3251 - val_accuracy: 0.7070\n",
      "Epoch 3/10\n",
      "8982/8982 [==============================] - 1s 143us/sample - loss: 1.0151 - accuracy: 0.7818 - val_loss: 1.1481 - val_accuracy: 0.7458\n",
      "Epoch 4/10\n",
      "8982/8982 [==============================] - 1s 143us/sample - loss: 0.7894 - accuracy: 0.8318 - val_loss: 1.0473 - val_accuracy: 0.7694\n",
      "Epoch 5/10\n",
      "8982/8982 [==============================] - 1s 141us/sample - loss: 0.6181 - accuracy: 0.8725 - val_loss: 0.9901 - val_accuracy: 0.7850\n",
      "Epoch 6/10\n",
      "8982/8982 [==============================] - 1s 141us/sample - loss: 0.4880 - accuracy: 0.8975 - val_loss: 0.9428 - val_accuracy: 0.7903\n",
      "Epoch 7/10\n",
      "8982/8982 [==============================] - 1s 140us/sample - loss: 0.3932 - accuracy: 0.9173 - val_loss: 0.9378 - val_accuracy: 0.7925\n",
      "Epoch 8/10\n",
      "8982/8982 [==============================] - 1s 145us/sample - loss: 0.3180 - accuracy: 0.9311 - val_loss: 0.9443 - val_accuracy: 0.7947\n",
      "Epoch 9/10\n",
      "8982/8982 [==============================] - 1s 143us/sample - loss: 0.2661 - accuracy: 0.9405 - val_loss: 0.9520 - val_accuracy: 0.7970\n",
      "Epoch 10/10\n",
      "8982/8982 [==============================] - 1s 146us/sample - loss: 0.2262 - accuracy: 0.9456 - val_loss: 0.9860 - val_accuracy: 0.7925\n"
     ]
    }
   ],
   "source": [
    "history = network.fit(X_train, y_train, epochs = 10, batch_size = 512, validation_data = (X_test, y_test))"
   ]
  },
  {
   "cell_type": "markdown",
   "metadata": {},
   "source": [
    "## Predicting labels for testing data"
   ]
  },
  {
   "cell_type": "code",
   "execution_count": 18,
   "metadata": {},
   "outputs": [],
   "source": [
    "y_pred = network.predict(X_test)"
   ]
  },
  {
   "cell_type": "markdown",
   "metadata": {},
   "source": [
    "The Prediction gaves probability distribution over the 46 labels."
   ]
  },
  {
   "cell_type": "code",
   "execution_count": 19,
   "metadata": {},
   "outputs": [
    {
     "data": {
      "text/plain": [
       "(46,)"
      ]
     },
     "execution_count": 19,
     "metadata": {},
     "output_type": "execute_result"
    }
   ],
   "source": [
    "y_pred[0].shape"
   ]
  },
  {
   "cell_type": "code",
   "execution_count": 20,
   "metadata": {},
   "outputs": [
    {
     "data": {
      "text/plain": [
       "0.9999999"
      ]
     },
     "execution_count": 20,
     "metadata": {},
     "output_type": "execute_result"
    }
   ],
   "source": [
    "np.sum(y_pred[0])"
   ]
  },
  {
   "cell_type": "code",
   "execution_count": 22,
   "metadata": {},
   "outputs": [
    {
     "data": {
      "text/plain": [
       "(3, array([0., 0., 0., 1., 0., 0., 0., 0., 0., 0., 0., 0., 0., 0., 0., 0., 0.,\n",
       "        0., 0., 0., 0., 0., 0., 0., 0., 0., 0., 0., 0., 0., 0., 0., 0., 0.,\n",
       "        0., 0., 0., 0., 0., 0., 0., 0., 0., 0., 0., 0.], dtype=float32))"
      ]
     },
     "execution_count": 22,
     "metadata": {},
     "output_type": "execute_result"
    }
   ],
   "source": [
    "np.argmax(y_pred[0]), y_test[0]"
   ]
  },
  {
   "cell_type": "markdown",
   "metadata": {},
   "source": [
    "## Different way to handle the labels and loss"
   ]
  },
  {
   "cell_type": "markdown",
   "metadata": {},
   "source": [
    "If we do not  *one hot encode* our test labels, *categorical_crossentropy* would be not useful for this type of data.\n",
    "*categorical_crossentropy* expects labels to be in categorical encoding (column wise). For non-encoded labels, *sparse_categorical_crossentorpy* loss function is used."
   ]
  },
  {
   "cell_type": "markdown",
   "metadata": {},
   "source": [
    "## Intermediate layers with less than 46 units"
   ]
  },
  {
   "cell_type": "markdown",
   "metadata": {},
   "source": [
    "A network must be capable to fit entire data. Omitting data could result in unexpected results. A network must be trained on the entire data. This means having less units to process than the data, could result in discarding useful information, which affects the final results. The intermediate layers almost always be capable to fit all input units."
   ]
  },
  {
   "cell_type": "markdown",
   "metadata": {},
   "source": [
    "### Let's what happen when we discard information"
   ]
  },
  {
   "cell_type": "code",
   "execution_count": 23,
   "metadata": {},
   "outputs": [],
   "source": [
    "network = models.Sequential()\n",
    "network.add(layers.Dense(64, activation = \"relu\", input_shape = (10000,)))\n",
    "network.add(layers.Dense(4, activation = \"relu\"))\n",
    "network.add(layers.Dense(46, activation = \"softmax\"))\n",
    "network.compile(optimize = \"rmsprop\", loss = \"categorical_crossentropy\", metrics = [\"accuracy\"])"
   ]
  },
  {
   "cell_type": "code",
   "execution_count": 24,
   "metadata": {
    "scrolled": true
   },
   "outputs": [
    {
     "name": "stdout",
     "output_type": "stream",
     "text": [
      "Train on 7982 samples, validate on 1000 samples\n",
      "Epoch 1/20\n",
      "7982/7982 [==============================] - 2s 288us/sample - loss: 3.7132 - accuracy: 0.0727 - val_loss: 3.5442 - val_accuracy: 0.0480\n",
      "Epoch 2/20\n",
      "7982/7982 [==============================] - 1s 133us/sample - loss: 3.4000 - accuracy: 0.0703 - val_loss: 3.2960 - val_accuracy: 0.0860\n",
      "Epoch 3/20\n",
      "7982/7982 [==============================] - 1s 134us/sample - loss: 3.1223 - accuracy: 0.0898 - val_loss: 3.0724 - val_accuracy: 0.0790\n",
      "Epoch 4/20\n",
      "7982/7982 [==============================] - 1s 136us/sample - loss: 2.8481 - accuracy: 0.3167 - val_loss: 2.8199 - val_accuracy: 0.4100\n",
      "Epoch 5/20\n",
      "7982/7982 [==============================] - 1s 137us/sample - loss: 2.5659 - accuracy: 0.4301 - val_loss: 2.5777 - val_accuracy: 0.4200\n",
      "Epoch 6/20\n",
      "7982/7982 [==============================] - 1s 135us/sample - loss: 2.3001 - accuracy: 0.4442 - val_loss: 2.3630 - val_accuracy: 0.4240\n",
      "Epoch 7/20\n",
      "7982/7982 [==============================] - 1s 136us/sample - loss: 2.0688 - accuracy: 0.4509 - val_loss: 2.1771 - val_accuracy: 0.4310\n",
      "Epoch 8/20\n",
      "7982/7982 [==============================] - 1s 136us/sample - loss: 1.8694 - accuracy: 0.4768 - val_loss: 2.0258 - val_accuracy: 0.4560\n",
      "Epoch 9/20\n",
      "7982/7982 [==============================] - 1s 141us/sample - loss: 1.6915 - accuracy: 0.4939 - val_loss: 1.8911 - val_accuracy: 0.4510\n",
      "Epoch 10/20\n",
      "7982/7982 [==============================] - 1s 135us/sample - loss: 1.5270 - accuracy: 0.5041 - val_loss: 1.7687 - val_accuracy: 0.46909 - accura\n",
      "Epoch 11/20\n",
      "7982/7982 [==============================] - 1s 140us/sample - loss: 1.3783 - accuracy: 0.6685 - val_loss: 1.6718 - val_accuracy: 0.6510\n",
      "Epoch 12/20\n",
      "7982/7982 [==============================] - 1s 135us/sample - loss: 1.2601 - accuracy: 0.7125 - val_loss: 1.5988 - val_accuracy: 0.6610\n",
      "Epoch 13/20\n",
      "7982/7982 [==============================] - 1s 137us/sample - loss: 1.1742 - accuracy: 0.7197 - val_loss: 1.5462 - val_accuracy: 0.6660\n",
      "Epoch 14/20\n",
      "7982/7982 [==============================] - 1s 135us/sample - loss: 1.1017 - accuracy: 0.7321 - val_loss: 1.5067 - val_accuracy: 0.6720\n",
      "Epoch 15/20\n",
      "7982/7982 [==============================] - 1s 135us/sample - loss: 1.0377 - accuracy: 0.7374 - val_loss: 1.4853 - val_accuracy: 0.6750\n",
      "Epoch 16/20\n",
      "7982/7982 [==============================] - 1s 137us/sample - loss: 0.9859 - accuracy: 0.7410 - val_loss: 1.4676 - val_accuracy: 0.6760\n",
      "Epoch 17/20\n",
      "7982/7982 [==============================] - 1s 136us/sample - loss: 0.9429 - accuracy: 0.7458 - val_loss: 1.4644 - val_accuracy: 0.6800\n",
      "Epoch 18/20\n",
      "7982/7982 [==============================] - 1s 139us/sample - loss: 0.9035 - accuracy: 0.7519 - val_loss: 1.4549 - val_accuracy: 0.6830\n",
      "Epoch 19/20\n",
      "7982/7982 [==============================] - 1s 131us/sample - loss: 0.8677 - accuracy: 0.7542 - val_loss: 1.4522 - val_accuracy: 0.6910\n",
      "Epoch 20/20\n",
      "7982/7982 [==============================] - 1s 135us/sample - loss: 0.8366 - accuracy: 0.7610 - val_loss: 1.4903 - val_accuracy: 0.6830\n"
     ]
    }
   ],
   "source": [
    "history = network.fit(X, y, epochs = 20, batch_size = 512, validation_data = (val_X_train, val_y_train))"
   ]
  },
  {
   "cell_type": "markdown",
   "metadata": {},
   "source": [
    "Here we can see that, validation accuracy is only **68.3%**, a huge drop of **11%** in the validation accuracy. This clearly shows that, less units for processing than input units puts adverse effect on the optimal accuracy"
   ]
  },
  {
   "cell_type": "markdown",
   "metadata": {},
   "source": [
    "## Network having 128 processing units"
   ]
  },
  {
   "cell_type": "code",
   "execution_count": 25,
   "metadata": {},
   "outputs": [],
   "source": [
    "network = models.Sequential()\n",
    "network.add(layers.Dense(128, activation = \"relu\", input_shape = (10000,)))\n",
    "network.add(layers.Dense(128, activation = \"relu\"))\n",
    "network.add(layers.Dense(46, activation = \"softmax\"))\n",
    "network.compile(optimizer = \"rmsprop\", loss = \"categorical_crossentropy\", metrics = [\"accuracy\"])"
   ]
  },
  {
   "cell_type": "code",
   "execution_count": 26,
   "metadata": {
    "scrolled": true
   },
   "outputs": [
    {
     "name": "stdout",
     "output_type": "stream",
     "text": [
      "Train on 7982 samples, validate on 1000 samples\n",
      "Epoch 1/20\n",
      "7982/7982 [==============================] - 2s 304us/sample - loss: 2.0646 - accuracy: 0.5753 - val_loss: 1.3616 - val_accuracy: 0.7000\n",
      "Epoch 2/20\n",
      "7982/7982 [==============================] - 1s 173us/sample - loss: 1.0911 - accuracy: 0.7636 - val_loss: 1.0931 - val_accuracy: 0.7590\n",
      "Epoch 3/20\n",
      "7982/7982 [==============================] - 1s 168us/sample - loss: 0.7750 - accuracy: 0.8326 - val_loss: 0.9586 - val_accuracy: 0.8110\n",
      "Epoch 4/20\n",
      "7982/7982 [==============================] - 1s 174us/sample - loss: 0.5607 - accuracy: 0.8825 - val_loss: 0.9015 - val_accuracy: 0.8150\n",
      "Epoch 5/20\n",
      "7982/7982 [==============================] - 1s 172us/sample - loss: 0.4062 - accuracy: 0.9113 - val_loss: 0.8874 - val_accuracy: 0.8200\n",
      "Epoch 6/20\n",
      "7982/7982 [==============================] - 1s 171us/sample - loss: 0.3148 - accuracy: 0.9306 - val_loss: 0.8601 - val_accuracy: 0.8310\n",
      "Epoch 7/20\n",
      "7982/7982 [==============================] - 1s 174us/sample - loss: 0.2384 - accuracy: 0.9440 - val_loss: 0.9102 - val_accuracy: 0.8090\n",
      "Epoch 8/20\n",
      "7982/7982 [==============================] - 1s 174us/sample - loss: 0.2077 - accuracy: 0.9509 - val_loss: 0.9243 - val_accuracy: 0.8150\n",
      "Epoch 9/20\n",
      "7982/7982 [==============================] - 1s 170us/sample - loss: 0.1786 - accuracy: 0.9529 - val_loss: 0.8961 - val_accuracy: 0.8260\n",
      "Epoch 10/20\n",
      "7982/7982 [==============================] - 1s 177us/sample - loss: 0.1594 - accuracy: 0.9521 - val_loss: 0.9445 - val_accuracy: 0.8210\n",
      "Epoch 11/20\n",
      "7982/7982 [==============================] - 1s 169us/sample - loss: 0.1402 - accuracy: 0.9548 - val_loss: 0.9869 - val_accuracy: 0.8130\n",
      "Epoch 12/20\n",
      "7982/7982 [==============================] - 1s 176us/sample - loss: 0.1357 - accuracy: 0.9578 - val_loss: 1.0456 - val_accuracy: 0.8090\n",
      "Epoch 13/20\n",
      "7982/7982 [==============================] - 1s 169us/sample - loss: 0.1338 - accuracy: 0.9565 - val_loss: 0.9876 - val_accuracy: 0.8200\n",
      "Epoch 14/20\n",
      "7982/7982 [==============================] - 1s 176us/sample - loss: 0.1233 - accuracy: 0.9568 - val_loss: 1.0372 - val_accuracy: 0.8110\n",
      "Epoch 15/20\n",
      "7982/7982 [==============================] - 1s 174us/sample - loss: 0.1244 - accuracy: 0.9563 - val_loss: 1.1011 - val_accuracy: 0.7890\n",
      "Epoch 16/20\n",
      "7982/7982 [==============================] - 1s 173us/sample - loss: 0.1146 - accuracy: 0.9585 - val_loss: 1.0393 - val_accuracy: 0.8180\n",
      "Epoch 17/20\n",
      "7982/7982 [==============================] - 1s 174us/sample - loss: 0.1139 - accuracy: 0.9579 - val_loss: 1.0944 - val_accuracy: 0.8020\n",
      "Epoch 18/20\n",
      "7982/7982 [==============================] - 1s 174us/sample - loss: 0.1147 - accuracy: 0.9564 - val_loss: 1.3118 - val_accuracy: 0.7680\n",
      "Epoch 19/20\n",
      "7982/7982 [==============================] - 1s 163us/sample - loss: 0.1037 - accuracy: 0.9589 - val_loss: 1.1230 - val_accuracy: 0.7860\n",
      "Epoch 20/20\n",
      "7982/7982 [==============================] - 1s 171us/sample - loss: 0.1056 - accuracy: 0.9584 - val_loss: 1.1244 - val_accuracy: 0.7970\n"
     ]
    }
   ],
   "source": [
    "history = network.fit(X, y, epochs = 20, batch_size = 512, validation_data = (val_X_train, val_y_train))"
   ]
  },
  {
   "cell_type": "code",
   "execution_count": 28,
   "metadata": {},
   "outputs": [
    {
     "data": {
      "image/png": "[encoded data removed]",
      "text/plain": [
       "<Figure size 432x288 with 1 Axes>"
      ]
     },
     "metadata": {
      "needs_background": "light"
     },
     "output_type": "display_data"
    }
   ],
   "source": [
    "show_loss(history.history)"
   ]
  },
  {
   "cell_type": "code",
   "execution_count": 29,
   "metadata": {},
   "outputs": [
    {
     "data": {
      "image/png": "[encoded data removed]",
      "text/plain": [
       "<Figure size 432x288 with 1 Axes>"
      ]
     },
     "metadata": {
      "needs_background": "light"
     },
     "output_type": "display_data"
    }
   ],
   "source": [
    "show_accuracy(history.history)"
   ]
  },
  {
   "cell_type": "markdown",
   "metadata": {},
   "source": [
    "### No signs of any awesome results. Validation accuracy is still **79%**"
   ]
  },
  {
   "cell_type": "markdown",
   "metadata": {},
   "source": [
    "## Network having 128 units of 3 intermediate layers"
   ]
  },
  {
   "cell_type": "code",
   "execution_count": 30,
   "metadata": {},
   "outputs": [],
   "source": [
    "network = models.Sequential()\n",
    "network.add(layers.Dense(128, activation = \"relu\", input_shape = (10000,)))\n",
    "network.add(layers.Dense(128, activation = \"relu\"))\n",
    "network.add(layers.Dense(128, activation = \"relu\"))\n",
    "network.add(layers.Dense(46, activation = \"softmax\"))\n",
    "network.compile(optimizer = \"rmsprop\", loss = \"categorical_crossentropy\", metrics = [\"accuracy\"])"
   ]
  },
  {
   "cell_type": "code",
   "execution_count": 31,
   "metadata": {
    "scrolled": true
   },
   "outputs": [
    {
     "name": "stdout",
     "output_type": "stream",
     "text": [
      "Train on 7982 samples, validate on 1000 samples\n",
      "Epoch 1/20\n",
      "7982/7982 [==============================] - 3s 334us/sample - loss: 2.1866 - accuracy: 0.5272 - val_loss: 1.3761 - val_accuracy: 0.6890\n",
      "Epoch 2/20\n",
      "7982/7982 [==============================] - 1s 174us/sample - loss: 1.1860 - accuracy: 0.7260 - val_loss: 1.1805 - val_accuracy: 0.7350\n",
      "Epoch 3/20\n",
      "7982/7982 [==============================] - 1s 176us/sample - loss: 0.8507 - accuracy: 0.8069 - val_loss: 1.1187 - val_accuracy: 0.7780\n",
      "Epoch 4/20\n",
      "7982/7982 [==============================] - 1s 178us/sample - loss: 0.6164 - accuracy: 0.8637 - val_loss: 1.0527 - val_accuracy: 0.7670\n",
      "Epoch 5/20\n",
      "7982/7982 [==============================] - 1s 172us/sample - loss: 0.4540 - accuracy: 0.8999 - val_loss: 0.9770 - val_accuracy: 0.7980\n",
      "Epoch 6/20\n",
      "7982/7982 [==============================] - 1s 175us/sample - loss: 0.3551 - accuracy: 0.9204 - val_loss: 0.9230 - val_accuracy: 0.8160\n",
      "Epoch 7/20\n",
      "7982/7982 [==============================] - 1s 172us/sample - loss: 0.2534 - accuracy: 0.9416 - val_loss: 0.9949 - val_accuracy: 0.8140\n",
      "Epoch 8/20\n",
      "7982/7982 [==============================] - 1s 173us/sample - loss: 0.2233 - accuracy: 0.9459 - val_loss: 1.1454 - val_accuracy: 0.7900\n",
      "Epoch 9/20\n",
      "7982/7982 [==============================] - 1s 175us/sample - loss: 0.1780 - accuracy: 0.9546 - val_loss: 1.0356 - val_accuracy: 0.8130\n",
      "Epoch 10/20\n",
      "7982/7982 [==============================] - 1s 174us/sample - loss: 0.1688 - accuracy: 0.9521 - val_loss: 1.0557 - val_accuracy: 0.8040\n",
      "Epoch 11/20\n",
      "7982/7982 [==============================] - 1s 165us/sample - loss: 0.1464 - accuracy: 0.9530 - val_loss: 1.1123 - val_accuracy: 0.8090\n",
      "Epoch 12/20\n",
      "7982/7982 [==============================] - 1s 175us/sample - loss: 0.1388 - accuracy: 0.9569 - val_loss: 1.0620 - val_accuracy: 0.8060\n",
      "Epoch 13/20\n",
      "7982/7982 [==============================] - 1s 172us/sample - loss: 0.1390 - accuracy: 0.9559 - val_loss: 1.0795 - val_accuracy: 0.8170\n",
      "Epoch 14/20\n",
      "7982/7982 [==============================] - 1s 177us/sample - loss: 0.1272 - accuracy: 0.9559 - val_loss: 1.0918 - val_accuracy: 0.8030\n",
      "Epoch 15/20\n",
      "7982/7982 [==============================] - 1s 173us/sample - loss: 0.1133 - accuracy: 0.9583 - val_loss: 1.1578 - val_accuracy: 0.7950\n",
      "Epoch 16/20\n",
      "7982/7982 [==============================] - 1s 174us/sample - loss: 0.1145 - accuracy: 0.9574 - val_loss: 1.1412 - val_accuracy: 0.8040\n",
      "Epoch 17/20\n",
      "7982/7982 [==============================] - 1s 178us/sample - loss: 0.1102 - accuracy: 0.9580 - val_loss: 1.2579 - val_accuracy: 0.7960\n",
      "Epoch 18/20\n",
      "7982/7982 [==============================] - 1s 175us/sample - loss: 0.1032 - accuracy: 0.9595 - val_loss: 1.1355 - val_accuracy: 0.8030\n",
      "Epoch 19/20\n",
      "7982/7982 [==============================] - 1s 173us/sample - loss: 0.1035 - accuracy: 0.9569 - val_loss: 1.1229 - val_accuracy: 0.8080\n",
      "Epoch 20/20\n",
      "7982/7982 [==============================] - 1s 173us/sample - loss: 0.1015 - accuracy: 0.9565 - val_loss: 1.1522 - val_accuracy: 0.8090\n"
     ]
    }
   ],
   "source": [
    "history = network.fit(X, y, epochs = 20, batch_size = 512, validation_data = (val_X_train, val_y_train))"
   ]
  },
  {
   "cell_type": "code",
   "execution_count": 32,
   "metadata": {},
   "outputs": [
    {
     "data": {
      "image/png": "[encoded data removed]",
      "text/plain": [
       "<Figure size 432x288 with 1 Axes>"
      ]
     },
     "metadata": {
      "needs_background": "light"
     },
     "output_type": "display_data"
    }
   ],
   "source": [
    "show_loss(history.history)"
   ]
  },
  {
   "cell_type": "code",
   "execution_count": 33,
   "metadata": {},
   "outputs": [
    {
     "data": {
      "image/png": "[encoded data removed]",
      "text/plain": [
       "<Figure size 432x288 with 1 Axes>"
      ]
     },
     "metadata": {
      "needs_background": "light"
     },
     "output_type": "display_data"
    }
   ],
   "source": [
    "show_accuracy(history.history)"
   ]
  },
  {
   "cell_type": "markdown",
   "metadata": {},
   "source": [
    "### Still same results"
   ]
  },
  {
   "cell_type": "markdown",
   "metadata": {},
   "source": [
    "## Network having 64 processin units of 3 hidden layers"
   ]
  },
  {
   "cell_type": "code",
   "execution_count": 34,
   "metadata": {},
   "outputs": [],
   "source": [
    "network = models.Sequential()\n",
    "network.add(layers.Dense(64, activation = \"relu\", input_shape = (10000,)))\n",
    "network.add(layers.Dense(64, activation = \"relu\"))\n",
    "network.add(layers.Dense(64, activation = \"relu\"))\n",
    "network.add(layers.Dense(46, activation = \"softmax\"))\n",
    "network.compile(optimizer = \"rmsprop\", loss = \"categorical_crossentropy\", metrics = [\"accuracy\"])"
   ]
  },
  {
   "cell_type": "code",
   "execution_count": 35,
   "metadata": {
    "scrolled": true
   },
   "outputs": [
    {
     "name": "stdout",
     "output_type": "stream",
     "text": [
      "Train on 7982 samples, validate on 1000 samples\n",
      "Epoch 1/20\n",
      "7982/7982 [==============================] - 2s 290us/sample - loss: 2.7564 - accuracy: 0.4875 - val_loss: 1.7638 - val_accuracy: 0.6000\n",
      "Epoch 2/20\n",
      "7982/7982 [==============================] - 1s 140us/sample - loss: 1.4873 - accuracy: 0.6805 - val_loss: 1.3475 - val_accuracy: 0.6890\n",
      "Epoch 3/20\n",
      "7982/7982 [==============================] - 1s 139us/sample - loss: 1.1049 - accuracy: 0.7542 - val_loss: 1.1673 - val_accuracy: 0.7350\n",
      "Epoch 4/20\n",
      "7982/7982 [==============================] - 1s 137us/sample - loss: 0.8540 - accuracy: 0.8147 - val_loss: 1.0483 - val_accuracy: 0.7730\n",
      "Epoch 5/20\n",
      "7982/7982 [==============================] - 1s 140us/sample - loss: 0.6685 - accuracy: 0.8524 - val_loss: 0.9891 - val_accuracy: 0.7880\n",
      "Epoch 6/20\n",
      "7982/7982 [==============================] - 1s 142us/sample - loss: 0.5483 - accuracy: 0.8761 - val_loss: 0.9810 - val_accuracy: 0.8000\n",
      "Epoch 7/20\n",
      "7982/7982 [==============================] - 1s 137us/sample - loss: 0.4286 - accuracy: 0.9078 - val_loss: 0.9872 - val_accuracy: 0.7830\n",
      "Epoch 8/20\n",
      "7982/7982 [==============================] - 1s 139us/sample - loss: 0.3518 - accuracy: 0.9228 - val_loss: 1.0116 - val_accuracy: 0.7960\n",
      "Epoch 9/20\n",
      "7982/7982 [==============================] - 1s 140us/sample - loss: 0.2892 - accuracy: 0.9346 - val_loss: 1.1233 - val_accuracy: 0.7750\n",
      "Epoch 10/20\n",
      "7982/7982 [==============================] - 1s 141us/sample - loss: 0.2457 - accuracy: 0.9416 - val_loss: 0.9934 - val_accuracy: 0.8110\n",
      "Epoch 11/20\n",
      "7982/7982 [==============================] - 1s 144us/sample - loss: 0.2114 - accuracy: 0.9473 - val_loss: 1.0670 - val_accuracy: 0.7940\n",
      "Epoch 12/20\n",
      "7982/7982 [==============================] - 1s 141us/sample - loss: 0.1923 - accuracy: 0.9486 - val_loss: 1.2115 - val_accuracy: 0.7710\n",
      "Epoch 13/20\n",
      "7982/7982 [==============================] - 1s 142us/sample - loss: 0.1682 - accuracy: 0.9528 - val_loss: 1.0409 - val_accuracy: 0.8110\n",
      "Epoch 14/20\n",
      "7982/7982 [==============================] - 1s 140us/sample - loss: 0.1600 - accuracy: 0.9544 - val_loss: 1.1322 - val_accuracy: 0.8070\n",
      "Epoch 15/20\n",
      "7982/7982 [==============================] - 1s 141us/sample - loss: 0.1477 - accuracy: 0.9551 - val_loss: 1.1389 - val_accuracy: 0.8010\n",
      "Epoch 16/20\n",
      "7982/7982 [==============================] - 1s 140us/sample - loss: 0.1389 - accuracy: 0.9578 - val_loss: 1.2368 - val_accuracy: 0.7890\n",
      "Epoch 17/20\n",
      "7982/7982 [==============================] - 1s 142us/sample - loss: 0.1319 - accuracy: 0.9568 - val_loss: 1.1786 - val_accuracy: 0.7890\n",
      "Epoch 18/20\n",
      "7982/7982 [==============================] - 1s 144us/sample - loss: 0.1326 - accuracy: 0.9575 - val_loss: 1.2499 - val_accuracy: 0.7870\n",
      "Epoch 19/20\n",
      "7982/7982 [==============================] - 1s 141us/sample - loss: 0.1233 - accuracy: 0.9593 - val_loss: 1.1977 - val_accuracy: 0.7980\n",
      "Epoch 20/20\n",
      "7982/7982 [==============================] - 1s 140us/sample - loss: 0.1152 - accuracy: 0.9584 - val_loss: 1.1870 - val_accuracy: 0.8040\n"
     ]
    }
   ],
   "source": [
    "history = network.fit(X, y, epochs = 20, batch_size = 512, validation_data = (val_X_train, val_y_train))"
   ]
  },
  {
   "cell_type": "code",
   "execution_count": 36,
   "metadata": {},
   "outputs": [
    {
     "data": {
      "image/png": "[encoded data removed]",
      "text/plain": [
       "<Figure size 432x288 with 1 Axes>"
      ]
     },
     "metadata": {
      "needs_background": "light"
     },
     "output_type": "display_data"
    }
   ],
   "source": [
    "show_loss(history.history)"
   ]
  },
  {
   "cell_type": "code",
   "execution_count": 37,
   "metadata": {},
   "outputs": [
    {
     "data": {
      "image/png": "[encoded data removed]",
      "text/plain": [
       "<Figure size 432x288 with 1 Axes>"
      ]
     },
     "metadata": {
      "needs_background": "light"
     },
     "output_type": "display_data"
    }
   ],
   "source": [
    "show_accuracy(history.history)"
   ]
  },
  {
   "cell_type": "code",
   "execution_count": null,
   "metadata": {},
   "outputs": [],
   "source": []
  }
 ],
 "metadata": {
  "kernelspec": {
   "display_name": "Python 3",
   "language": "python",
   "name": "python3"
  },
  "language_info": {
   "codemirror_mode": {
    "name": "ipython",
    "version": 3
   },
   "file_extension": ".py",
   "mimetype": "text/x-python",
   "name": "python",
   "nbconvert_exporter": "python",
   "pygments_lexer": "ipython3",
   "version": "3.7.3"
  }
 },
 "nbformat": 4,
 "nbformat_minor": 2
}
