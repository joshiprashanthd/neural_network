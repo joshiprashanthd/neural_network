{
 "cells": [
  {
   "cell_type": "markdown",
   "metadata": {},
   "source": [
    "# Optimized Network for IMDB Dataset"
   ]
  },
  {
   "cell_type": "markdown",
   "metadata": {},
   "source": [
    "By optimizing, we mean comparing different networks in term of validation accuracy and validation loss.\n",
    "The goal, of this Notebook is to know, how changing number of layers and number of parameters affects the validation loss and validation accuracy hugely."
   ]
  },
  {
   "cell_type": "code",
   "execution_count": 1,
   "metadata": {},
   "outputs": [],
   "source": [
    "# Importing Libraries\n",
    "import numpy as np\n",
    "import matplotlib.pyplot as plt\n",
    "from tensorflow.keras import models, layers\n",
    "from tensorflow.keras.datasets import imdb"
   ]
  },
  {
   "cell_type": "code",
   "execution_count": 2,
   "metadata": {},
   "outputs": [],
   "source": [
    "# Fetching dataset\n",
    "(X_train, y_train), (X_test, y_test) = imdb.load_data(num_words = 10000)"
   ]
  },
  {
   "cell_type": "code",
   "execution_count": 3,
   "metadata": {},
   "outputs": [
    {
     "data": {
      "text/plain": [
       "((25000,), (25000,))"
      ]
     },
     "execution_count": 3,
     "metadata": {},
     "output_type": "execute_result"
    }
   ],
   "source": [
    "X_train.shape, X_test.shape"
   ]
  },
  {
   "cell_type": "code",
   "execution_count": 3,
   "metadata": {},
   "outputs": [],
   "source": [
    "def vectorize(sequences, dimensions = 10000):\n",
    "    results = np.zeros((len(sequences), dimensions))\n",
    "    for i, sequence in enumerate(sequences):\n",
    "        results[i, sequence] = 1\n",
    "    return results\n",
    "\n",
    "X_train = vectorize(X_train)\n",
    "X_test = vectorize(X_test)\n",
    "\n",
    "y_train = np.asarray(y_train).astype(\"float32\")\n",
    "y_test = np.asarray(y_test).astype(\"float32\")"
   ]
  },
  {
   "cell_type": "code",
   "execution_count": 4,
   "metadata": {},
   "outputs": [],
   "source": [
    "# Creating validation sets\n",
    "val_X = X_train[:10000]\n",
    "X = X_train[10000:]\n",
    "\n",
    "val_y = y_train[:10000]\n",
    "y = y_train[10000:]"
   ]
  },
  {
   "cell_type": "markdown",
   "metadata": {},
   "source": [
    "### Creating function to compare losses obtained by different networks"
   ]
  },
  {
   "cell_type": "code",
   "execution_count": 13,
   "metadata": {},
   "outputs": [],
   "source": [
    "def show_loss_comp(history1, history2, epochs = 20):\n",
    "    loss1 = history1[\"val_loss\"]\n",
    "    loss2 = history2[\"val_loss\"]\n",
    "    e = range(1, epochs + 1)\n",
    "    plt.plot(e, loss1, \"r+\", label=\"Network1 loss\")\n",
    "    plt.plot(e, loss2, \"bo\", label=\"Network2 loss\")\n",
    "    plt.legend()\n",
    "    plt.show()\n",
    "    \n",
    "def show_acc_comp(history1, history2, epochs = 20):\n",
    "    loss1 = history1[\"val_accuracy\"]\n",
    "    loss2 = history2[\"val_accuracy\"]\n",
    "    e = range(1, epochs + 1)\n",
    "    plt.plot(e, loss1, \"r+\", label=\"Network1 accuracy\")\n",
    "    plt.plot(e, loss2, \"bo\", label=\"Network2 accuracy\")\n",
    "    plt.legend()\n",
    "    plt.show()"
   ]
  },
  {
   "cell_type": "markdown",
   "metadata": {},
   "source": [
    "## Training with Normal Network"
   ]
  },
  {
   "cell_type": "code",
   "execution_count": 5,
   "metadata": {},
   "outputs": [],
   "source": [
    "network = models.Sequential()\n",
    "network.add(layers.Dense(16, activation = \"relu\", input_shape = (10000,)))\n",
    "network.add(layers.Dense(16, activation = \"relu\"))\n",
    "network.add(layers.Dense(1, activation = \"sigmoid\"))\n",
    "network.compile(optimizer = \"rmsprop\", loss = \"binary_crossentropy\", metrics = [\"accuracy\"])"
   ]
  },
  {
   "cell_type": "code",
   "execution_count": 6,
   "metadata": {
    "scrolled": true
   },
   "outputs": [
    {
     "name": "stdout",
     "output_type": "stream",
     "text": [
      "Train on 15000 samples, validate on 10000 samples\n",
      "Epoch 1/20\n",
      "15000/15000 [==============================] - 4s 268us/sample - loss: 0.5330 - accuracy: 0.7777 - val_loss: 0.3977 - val_accuracy: 0.8604\n",
      "Epoch 2/20\n",
      "15000/15000 [==============================] - 2s 123us/sample - loss: 0.3111 - accuracy: 0.8988 - val_loss: 0.3019 - val_accuracy: 0.8896\n",
      "Epoch 3/20\n",
      "15000/15000 [==============================] - 2s 124us/sample - loss: 0.2264 - accuracy: 0.9255 - val_loss: 0.2774 - val_accuracy: 0.8936\n",
      "Epoch 4/20\n",
      "15000/15000 [==============================] - 2s 124us/sample - loss: 0.1761 - accuracy: 0.9412 - val_loss: 0.2736 - val_accuracy: 0.8917\n",
      "Epoch 5/20\n",
      "15000/15000 [==============================] - 2s 124us/sample - loss: 0.1405 - accuracy: 0.9562 - val_loss: 0.3127 - val_accuracy: 0.8765\n",
      "Epoch 6/20\n",
      "15000/15000 [==============================] - 2s 123us/sample - loss: 0.1182 - accuracy: 0.9633 - val_loss: 0.3021 - val_accuracy: 0.8811\n",
      "Epoch 7/20\n",
      "15000/15000 [==============================] - 2s 123us/sample - loss: 0.0966 - accuracy: 0.9720 - val_loss: 0.3182 - val_accuracy: 0.8826\n",
      "Epoch 8/20\n",
      "15000/15000 [==============================] - 2s 123us/sample - loss: 0.0777 - accuracy: 0.9799 - val_loss: 0.3311 - val_accuracy: 0.8818\n",
      "Epoch 9/20\n",
      "15000/15000 [==============================] - 2s 124us/sample - loss: 0.0652 - accuracy: 0.9833 - val_loss: 0.3591 - val_accuracy: 0.8751\n",
      "Epoch 10/20\n",
      "15000/15000 [==============================] - 2s 122us/sample - loss: 0.0539 - accuracy: 0.9864 - val_loss: 0.3814 - val_accuracy: 0.8771\n",
      "Epoch 11/20\n",
      "15000/15000 [==============================] - 2s 123us/sample - loss: 0.0425 - accuracy: 0.9901 - val_loss: 0.4078 - val_accuracy: 0.8761\n",
      "Epoch 12/20\n",
      "15000/15000 [==============================] - 2s 126us/sample - loss: 0.0325 - accuracy: 0.9940 - val_loss: 0.4766 - val_accuracy: 0.8700\n",
      "Epoch 13/20\n",
      "15000/15000 [==============================] - 2s 123us/sample - loss: 0.0280 - accuracy: 0.9943 - val_loss: 0.4657 - val_accuracy: 0.8723\n",
      "Epoch 14/20\n",
      "15000/15000 [==============================] - 2s 124us/sample - loss: 0.0229 - accuracy: 0.9956 - val_loss: 0.4980 - val_accuracy: 0.8712\n",
      "Epoch 15/20\n",
      "15000/15000 [==============================] - 2s 122us/sample - loss: 0.0151 - accuracy: 0.9983 - val_loss: 0.5293 - val_accuracy: 0.8690\n",
      "Epoch 16/20\n",
      "15000/15000 [==============================] - 2s 125us/sample - loss: 0.0109 - accuracy: 0.9993 - val_loss: 0.5690 - val_accuracy: 0.8714\n",
      "Epoch 17/20\n",
      "15000/15000 [==============================] - 2s 123us/sample - loss: 0.0114 - accuracy: 0.9976 - val_loss: 0.6129 - val_accuracy: 0.8643\n",
      "Epoch 18/20\n",
      "15000/15000 [==============================] - 2s 124us/sample - loss: 0.0053 - accuracy: 0.9998 - val_loss: 0.6392 - val_accuracy: 0.8653\n",
      "Epoch 19/20\n",
      "15000/15000 [==============================] - 2s 124us/sample - loss: 0.0074 - accuracy: 0.9985 - val_loss: 0.6727 - val_accuracy: 0.8672\n",
      "Epoch 20/20\n",
      "15000/15000 [==============================] - 2s 122us/sample - loss: 0.0031 - accuracy: 0.9999 - val_loss: 0.7195 - val_accuracy: 0.8651\n"
     ]
    }
   ],
   "source": [
    "orig_history = network.fit(X, y, epochs = 20, batch_size = 512, validation_data=(val_X, val_y))"
   ]
  },
  {
   "cell_type": "markdown",
   "metadata": {},
   "source": [
    "## Training on Small Network"
   ]
  },
  {
   "cell_type": "code",
   "execution_count": 9,
   "metadata": {},
   "outputs": [],
   "source": [
    "network = models.Sequential()\n",
    "network.add(layers.Dense(4, activation = \"relu\", input_shape = (10000,)))\n",
    "network.add(layers.Dense(4, activation = \"relu\"))\n",
    "network.add(layers.Dense(1, activation = \"sigmoid\"))\n",
    "network.compile(optimizer = \"rmsprop\", loss = \"binary_crossentropy\", metrics = [\"accuracy\"])"
   ]
  },
  {
   "cell_type": "code",
   "execution_count": 10,
   "metadata": {
    "scrolled": true
   },
   "outputs": [
    {
     "name": "stdout",
     "output_type": "stream",
     "text": [
      "Train on 15000 samples, validate on 10000 samples\n",
      "Epoch 1/20\n",
      "15000/15000 [==============================] - 2s 105us/sample - loss: 0.6018 - accuracy: 0.7355 - val_loss: 0.5372 - val_accuracy: 0.8520\n",
      "Epoch 2/20\n",
      "15000/15000 [==============================] - 1s 74us/sample - loss: 0.4750 - accuracy: 0.8703 - val_loss: 0.4530 - val_accuracy: 0.8628\n",
      "Epoch 3/20\n",
      "15000/15000 [==============================] - 1s 79us/sample - loss: 0.3932 - accuracy: 0.8981 - val_loss: 0.3941 - val_accuracy: 0.8797\n",
      "Epoch 4/20\n",
      "15000/15000 [==============================] - 1s 78us/sample - loss: 0.3312 - accuracy: 0.9119 - val_loss: 0.3525 - val_accuracy: 0.8842\n",
      "Epoch 5/20\n",
      "15000/15000 [==============================] - 1s 75us/sample - loss: 0.2848 - accuracy: 0.9235 - val_loss: 0.3280 - val_accuracy: 0.8854\n",
      "Epoch 6/20\n",
      "15000/15000 [==============================] - 1s 72us/sample - loss: 0.2487 - accuracy: 0.9319 - val_loss: 0.3045 - val_accuracy: 0.8902\n",
      "Epoch 7/20\n",
      "15000/15000 [==============================] - 1s 74us/sample - loss: 0.2192 - accuracy: 0.9405 - val_loss: 0.2905 - val_accuracy: 0.8911\n",
      "Epoch 8/20\n",
      "15000/15000 [==============================] - 1s 71us/sample - loss: 0.1953 - accuracy: 0.9452 - val_loss: 0.2843 - val_accuracy: 0.8892\n",
      "Epoch 9/20\n",
      "15000/15000 [==============================] - 1s 71us/sample - loss: 0.1754 - accuracy: 0.9512 - val_loss: 0.2786 - val_accuracy: 0.8911\n",
      "Epoch 10/20\n",
      "15000/15000 [==============================] - 1s 73us/sample - loss: 0.1584 - accuracy: 0.9563 - val_loss: 0.2802 - val_accuracy: 0.8872\n",
      "Epoch 11/20\n",
      "15000/15000 [==============================] - 1s 72us/sample - loss: 0.1436 - accuracy: 0.9614 - val_loss: 0.2762 - val_accuracy: 0.8886\n",
      "Epoch 12/20\n",
      "15000/15000 [==============================] - 1s 70us/sample - loss: 0.1309 - accuracy: 0.9652 - val_loss: 0.2819 - val_accuracy: 0.8880\n",
      "Epoch 13/20\n",
      "15000/15000 [==============================] - 1s 72us/sample - loss: 0.1193 - accuracy: 0.9691 - val_loss: 0.2828 - val_accuracy: 0.8867\n",
      "Epoch 14/20\n",
      "15000/15000 [==============================] - 1s 71us/sample - loss: 0.1093 - accuracy: 0.9723 - val_loss: 0.2897 - val_accuracy: 0.8837\n",
      "Epoch 15/20\n",
      "15000/15000 [==============================] - 1s 71us/sample - loss: 0.0999 - accuracy: 0.9758 - val_loss: 0.2952 - val_accuracy: 0.8830\n",
      "Epoch 16/20\n",
      "15000/15000 [==============================] - 1s 72us/sample - loss: 0.0913 - accuracy: 0.9783 - val_loss: 0.3127 - val_accuracy: 0.8803\n",
      "Epoch 17/20\n",
      "15000/15000 [==============================] - 1s 74us/sample - loss: 0.0838 - accuracy: 0.9811 - val_loss: 0.3138 - val_accuracy: 0.8806\n",
      "Epoch 18/20\n",
      "15000/15000 [==============================] - 1s 74us/sample - loss: 0.0761 - accuracy: 0.9835 - val_loss: 0.3202 - val_accuracy: 0.8810\n",
      "Epoch 19/20\n",
      "15000/15000 [==============================] - 1s 71us/sample - loss: 0.0693 - accuracy: 0.9851 - val_loss: 0.3345 - val_accuracy: 0.8790\n",
      "Epoch 20/20\n",
      "15000/15000 [==============================] - 1s 72us/sample - loss: 0.0641 - accuracy: 0.9865 - val_loss: 0.3413 - val_accuracy: 0.8805\n"
     ]
    }
   ],
   "source": [
    "history_1 = network.fit(X, y, epochs = 20, batch_size = 512, validation_data = (val_X, val_y))"
   ]
  },
  {
   "cell_type": "markdown",
   "metadata": {},
   "source": [
    "### Comparing of loss between original network and a smaller network"
   ]
  },
  {
   "cell_type": "code",
   "execution_count": 11,
   "metadata": {},
   "outputs": [
    {
     "data": {
      "image/png": "[encoded data removed]",
      "text/plain": [
       "<Figure size 432x288 with 1 Axes>"
      ]
     },
     "metadata": {
      "needs_background": "light"
     },
     "output_type": "display_data"
    }
   ],
   "source": [
    "show_loss_comp(orig_history.history, history_1.history)"
   ]
  },
  {
   "cell_type": "code",
   "execution_count": 12,
   "metadata": {},
   "outputs": [
    {
     "data": {
      "image/png": "[encoded data removed]",
      "text/plain": [
       "<Figure size 432x288 with 1 Axes>"
      ]
     },
     "metadata": {
      "needs_background": "light"
     },
     "output_type": "display_data"
    }
   ],
   "source": [
    "show_acc_comp(orig_history.history, history_1.history)"
   ]
  },
  {
   "cell_type": "markdown",
   "metadata": {},
   "source": [
    "## Training with Bigger Network"
   ]
  },
  {
   "cell_type": "code",
   "execution_count": 13,
   "metadata": {},
   "outputs": [],
   "source": [
    "network = models.Sequential()\n",
    "network.add(layers.Dense(512, activation = \"relu\", input_shape = (10000,)))\n",
    "network.add(layers.Dense(512, activation = \"relu\"))\n",
    "network.add(layers.Dense(1, activation = \"sigmoid\"))\n",
    "network.compile(optimizer = \"rmsprop\", loss = \"binary_crossentropy\", metrics = [\"accuracy\"])"
   ]
  },
  {
   "cell_type": "code",
   "execution_count": 14,
   "metadata": {
    "scrolled": true
   },
   "outputs": [
    {
     "name": "stdout",
     "output_type": "stream",
     "text": [
      "Train on 15000 samples, validate on 10000 samples\n",
      "Epoch 1/20\n",
      "15000/15000 [==============================] - 4s 286us/sample - loss: 0.5615 - accuracy: 0.7493 - val_loss: 0.3020 - val_accuracy: 0.8821\n",
      "Epoch 2/20\n",
      "15000/15000 [==============================] - 4s 275us/sample - loss: 0.2497 - accuracy: 0.9045 - val_loss: 0.2937 - val_accuracy: 0.8865\n",
      "Epoch 3/20\n",
      "15000/15000 [==============================] - 4s 277us/sample - loss: 0.1609 - accuracy: 0.9369 - val_loss: 0.2861 - val_accuracy: 0.8928\n",
      "Epoch 4/20\n",
      "15000/15000 [==============================] - 4s 283us/sample - loss: 0.0717 - accuracy: 0.9744 - val_loss: 0.4053 - val_accuracy: 0.8511\n",
      "Epoch 5/20\n",
      "15000/15000 [==============================] - 4s 286us/sample - loss: 0.0199 - accuracy: 0.9953 - val_loss: 1.8899 - val_accuracy: 0.6641\n",
      "Epoch 6/20\n",
      "15000/15000 [==============================] - 4s 290us/sample - loss: 0.0477 - accuracy: 0.9867 - val_loss: 0.4920 - val_accuracy: 0.8876\n",
      "Epoch 7/20\n",
      "15000/15000 [==============================] - 4s 295us/sample - loss: 6.7055e-04 - accuracy: 1.0000 - val_loss: 0.6081 - val_accuracy: 0.8849\n",
      "Epoch 8/20\n",
      "15000/15000 [==============================] - 4s 300us/sample - loss: 1.1936e-04 - accuracy: 1.0000 - val_loss: 0.7018 - val_accuracy: 0.8868\n",
      "Epoch 9/20\n",
      "15000/15000 [==============================] - 5s 301us/sample - loss: 1.9556e-05 - accuracy: 1.0000 - val_loss: 0.8035 - val_accuracy: 0.8857\n",
      "Epoch 10/20\n",
      "15000/15000 [==============================] - 4s 299us/sample - loss: 4.2461e-06 - accuracy: 1.0000 - val_loss: 0.9005 - val_accuracy: 0.8845\n",
      "Epoch 11/20\n",
      "15000/15000 [==============================] - 5s 302us/sample - loss: 1.1014e-06 - accuracy: 1.0000 - val_loss: 0.9803 - val_accuracy: 0.8846\n",
      "Epoch 12/20\n",
      "15000/15000 [==============================] - 5s 301us/sample - loss: 3.5990e-07 - accuracy: 1.0000 - val_loss: 1.0560 - val_accuracy: 0.8843\n",
      "Epoch 13/20\n",
      "15000/15000 [==============================] - 5s 303us/sample - loss: 1.2132e-07 - accuracy: 1.0000 - val_loss: 1.1252 - val_accuracy: 0.8841\n",
      "Epoch 14/20\n",
      "15000/15000 [==============================] - 5s 308us/sample - loss: 5.2114e-08 - accuracy: 1.0000 - val_loss: 1.1744 - val_accuracy: 0.8849\n",
      "Epoch 15/20\n",
      "15000/15000 [==============================] - 5s 308us/sample - loss: 2.8517e-08 - accuracy: 1.0000 - val_loss: 1.2071 - val_accuracy: 0.8852\n",
      "Epoch 16/20\n",
      "15000/15000 [==============================] - 5s 305us/sample - loss: 1.9156e-08 - accuracy: 1.0000 - val_loss: 1.2302 - val_accuracy: 0.8852\n",
      "Epoch 17/20\n",
      "15000/15000 [==============================] - 5s 307us/sample - loss: 1.4385e-08 - accuracy: 1.0000 - val_loss: 1.2462 - val_accuracy: 0.8850\n",
      "Epoch 18/20\n",
      "15000/15000 [==============================] - 5s 309us/sample - loss: 1.1591e-08 - accuracy: 1.0000 - val_loss: 1.2596 - val_accuracy: 0.8851\n",
      "Epoch 19/20\n",
      "15000/15000 [==============================] - 5s 314us/sample - loss: 9.7212e-09 - accuracy: 1.0000 - val_loss: 1.2698 - val_accuracy: 0.8847\n",
      "Epoch 20/20\n",
      "15000/15000 [==============================] - 5s 333us/sample - loss: 8.4476e-09 - accuracy: 1.0000 - val_loss: 1.2792 - val_accuracy: 0.8846\n"
     ]
    }
   ],
   "source": [
    "history_2 = network.fit(X, y, epochs = 20, batch_size = 512, validation_data = (val_X, val_y))"
   ]
  },
  {
   "cell_type": "markdown",
   "metadata": {},
   "source": [
    "## Comparing loss between original network and bigger network"
   ]
  },
  {
   "cell_type": "code",
   "execution_count": 16,
   "metadata": {},
   "outputs": [
    {
     "data": {
      "image/png": "[encoded data removed]",
      "text/plain": [
       "<Figure size 432x288 with 1 Axes>"
      ]
     },
     "metadata": {
      "needs_background": "light"
     },
     "output_type": "display_data"
    }
   ],
   "source": [
    "show_loss_comp(orig_history.history, history_2.history)"
   ]
  },
  {
   "cell_type": "code",
   "execution_count": 18,
   "metadata": {},
   "outputs": [
    {
     "data": {
      "image/png": "[encoded data removed]",
      "text/plain": [
       "<Figure size 432x288 with 1 Axes>"
      ]
     },
     "metadata": {
      "needs_background": "light"
     },
     "output_type": "display_data"
    }
   ],
   "source": [
    "show_acc_comp(orig_history.history, history_2.history)"
   ]
  },
  {
   "cell_type": "markdown",
   "metadata": {},
   "source": [
    "## Training with Regularized Network"
   ]
  },
  {
   "cell_type": "code",
   "execution_count": 8,
   "metadata": {},
   "outputs": [],
   "source": [
    "from tensorflow.keras import regularizers\n",
    "\n",
    "network = models.Sequential()\n",
    "network.add(layers.Dense(16, activation = \"relu\", kernel_regularizer = regularizers.l2(0.001), input_shape = (10000,)))\n",
    "network.add(layers.Dense(16, activation = \"relu\", kernel_regularizer = regularizers.l2(0.001)))\n",
    "network.add(layers.Dense(1, activation = \"sigmoid\"))\n",
    "network.compile(optimizer = \"rmsprop\", loss = \"binary_crossentropy\", metrics = [\"accuracy\"])"
   ]
  },
  {
   "cell_type": "code",
   "execution_count": 9,
   "metadata": {
    "scrolled": true
   },
   "outputs": [
    {
     "name": "stdout",
     "output_type": "stream",
     "text": [
      "Train on 15000 samples, validate on 10000 samples\n",
      "Epoch 1/20\n",
      "15000/15000 [==============================] - 4s 241us/sample - loss: 0.5986 - accuracy: 0.7650 - val_loss: 0.4696 - val_accuracy: 0.8347\n",
      "Epoch 2/20\n",
      "15000/15000 [==============================] - 2s 124us/sample - loss: 0.3773 - accuracy: 0.8936 - val_loss: 0.3878 - val_accuracy: 0.8614\n",
      "Epoch 3/20\n",
      "15000/15000 [==============================] - 2s 124us/sample - loss: 0.2946 - accuracy: 0.9180 - val_loss: 0.3396 - val_accuracy: 0.8859\n",
      "Epoch 4/20\n",
      "15000/15000 [==============================] - 2s 125us/sample - loss: 0.2533 - accuracy: 0.9342 - val_loss: 0.3466 - val_accuracy: 0.8813\n",
      "Epoch 5/20\n",
      "15000/15000 [==============================] - 2s 125us/sample - loss: 0.2365 - accuracy: 0.9379 - val_loss: 0.3312 - val_accuracy: 0.8864\n",
      "Epoch 6/20\n",
      "15000/15000 [==============================] - 2s 126us/sample - loss: 0.2175 - accuracy: 0.9479 - val_loss: 0.3645 - val_accuracy: 0.8752\n",
      "Epoch 7/20\n",
      "15000/15000 [==============================] - 2s 124us/sample - loss: 0.2022 - accuracy: 0.9549 - val_loss: 0.3478 - val_accuracy: 0.8853\n",
      "Epoch 8/20\n",
      "15000/15000 [==============================] - 2s 125us/sample - loss: 0.1939 - accuracy: 0.9572 - val_loss: 0.3705 - val_accuracy: 0.8827\n",
      "Epoch 9/20\n",
      "15000/15000 [==============================] - 2s 127us/sample - loss: 0.1882 - accuracy: 0.9578 - val_loss: 0.3878 - val_accuracy: 0.8718\n",
      "Epoch 10/20\n",
      "15000/15000 [==============================] - 2s 124us/sample - loss: 0.1813 - accuracy: 0.9612 - val_loss: 0.3736 - val_accuracy: 0.8780\n",
      "Epoch 11/20\n",
      "15000/15000 [==============================] - 2s 125us/sample - loss: 0.1687 - accuracy: 0.9678 - val_loss: 0.4481 - val_accuracy: 0.8661\n",
      "Epoch 12/20\n",
      "15000/15000 [==============================] - 2s 125us/sample - loss: 0.1650 - accuracy: 0.9689 - val_loss: 0.3860 - val_accuracy: 0.8802\n",
      "Epoch 13/20\n",
      "15000/15000 [==============================] - 2s 128us/sample - loss: 0.1637 - accuracy: 0.9704 - val_loss: 0.4839 - val_accuracy: 0.8502\n",
      "Epoch 14/20\n",
      "15000/15000 [==============================] - 2s 125us/sample - loss: 0.1627 - accuracy: 0.9679 - val_loss: 0.4051 - val_accuracy: 0.8737\n",
      "Epoch 15/20\n",
      "15000/15000 [==============================] - 2s 127us/sample - loss: 0.1509 - accuracy: 0.9751 - val_loss: 0.4281 - val_accuracy: 0.8747\n",
      "Epoch 16/20\n",
      "15000/15000 [==============================] - 2s 125us/sample - loss: 0.1567 - accuracy: 0.9703 - val_loss: 0.4199 - val_accuracy: 0.8788\n",
      "Epoch 17/20\n",
      "15000/15000 [==============================] - 2s 129us/sample - loss: 0.1565 - accuracy: 0.9697 - val_loss: 0.4503 - val_accuracy: 0.8718\n",
      "Epoch 18/20\n",
      "15000/15000 [==============================] - 2s 127us/sample - loss: 0.1429 - accuracy: 0.9775 - val_loss: 0.4356 - val_accuracy: 0.8754\n",
      "Epoch 19/20\n",
      "15000/15000 [==============================] - 2s 123us/sample - loss: 0.1442 - accuracy: 0.9759 - val_loss: 0.4558 - val_accuracy: 0.8719\n",
      "Epoch 20/20\n",
      "15000/15000 [==============================] - 2s 125us/sample - loss: 0.1433 - accuracy: 0.9751 - val_loss: 0.4463 - val_accuracy: 0.8719\n"
     ]
    }
   ],
   "source": [
    "history_reg = network.fit(X, y, epochs = 20, batch_size = 512, validation_data = (val_X, val_y))"
   ]
  },
  {
   "cell_type": "code",
   "execution_count": 12,
   "metadata": {},
   "outputs": [
    {
     "data": {
      "image/png": "[encoded data removed]",
      "text/plain": [
       "<Figure size 432x288 with 1 Axes>"
      ]
     },
     "metadata": {
      "needs_background": "light"
     },
     "output_type": "display_data"
    }
   ],
   "source": [
    "show_loss_comp(orig_history.history, history_reg.history)"
   ]
  },
  {
   "cell_type": "code",
   "execution_count": 13,
   "metadata": {},
   "outputs": [
    {
     "data": {
      "image/png": "[encoded data removed]",
      "text/plain": [
       "<Figure size 432x288 with 1 Axes>"
      ]
     },
     "metadata": {
      "needs_background": "light"
     },
     "output_type": "display_data"
    }
   ],
   "source": [
    "show_acc_comp(orig_history.history, history_reg.history)"
   ]
  },
  {
   "cell_type": "markdown",
   "metadata": {},
   "source": [
    "## Adding a Dropout Layer"
   ]
  },
  {
   "cell_type": "markdown",
   "metadata": {},
   "source": [
    "A Dropout layer, randomly sets a fraction of output values to zero.\n",
    "For example: OUTPUT_VALUES: [0.3, 0.8, 0.1, 0.11, 0.7] After dropout we get, OUTPUT_VALUES: [0, 0.8, 0.1, 0, 0.7].\n",
    "We can see that, Dropout layer, set values to 0 at random."
   ]
  },
  {
   "cell_type": "code",
   "execution_count": 8,
   "metadata": {},
   "outputs": [
    {
     "data": {
      "text/plain": [
       "array([[ 0.88059084,  0.69589104, -1.27667864],\n",
       "       [-0.01391513, -0.33681285,  0.45626581],\n",
       "       [ 1.66698079, -0.88623335, -0.43082423]])"
      ]
     },
     "execution_count": 8,
     "metadata": {},
     "output_type": "execute_result"
    }
   ],
   "source": [
    "# Example showing effects of a dropout layer\n",
    "\n",
    "# A random output values of layer\n",
    "layer_output = np.random.randn(3, 3);\n",
    "layer_output"
   ]
  },
  {
   "cell_type": "code",
   "execution_count": 9,
   "metadata": {},
   "outputs": [],
   "source": [
    "# Operating a dropout on layer_output\n",
    "layer_output *= np.random.randint(0, 2, size=layer_output.shape)"
   ]
  },
  {
   "cell_type": "code",
   "execution_count": 10,
   "metadata": {},
   "outputs": [
    {
     "data": {
      "text/plain": [
       "array([[ 0.        ,  0.        , -1.27667864],\n",
       "       [-0.01391513, -0.        ,  0.        ],\n",
       "       [ 1.66698079, -0.88623335, -0.43082423]])"
      ]
     },
     "execution_count": 10,
     "metadata": {},
     "output_type": "execute_result"
    }
   ],
   "source": [
    "# After operation by a dropout layer\n",
    "layer_output"
   ]
  },
  {
   "cell_type": "markdown",
   "metadata": {},
   "source": [
    "## Adding a dropout layer in IMDB Network"
   ]
  },
  {
   "cell_type": "code",
   "execution_count": 11,
   "metadata": {},
   "outputs": [],
   "source": [
    "network = models.Sequential()\n",
    "network.add(layers.Dense(16, activation = \"relu\", input_shape = (10000,)))\n",
    "network.add(layers.Dropout(0.5))\n",
    "network.add(layers.Dense(16, activation = \"relu\"))\n",
    "network.add(layers.Dropout(0.5))\n",
    "network.add(layers.Dense(1, activation = \"sigmoid\"))\n",
    "network.compile(optimizer = \"rmsprop\", loss = \"binary_crossentropy\", metrics = [\"accuracy\"])"
   ]
  },
  {
   "cell_type": "code",
   "execution_count": 12,
   "metadata": {
    "scrolled": true
   },
   "outputs": [
    {
     "name": "stdout",
     "output_type": "stream",
     "text": [
      "Train on 15000 samples, validate on 10000 samples\n",
      "Epoch 1/20\n",
      "15000/15000 [==============================] - 3s 204us/sample - loss: 0.6364 - accuracy: 0.6289 - val_loss: 0.5328 - val_accuracy: 0.8482\n",
      "Epoch 2/20\n",
      "15000/15000 [==============================] - 2s 127us/sample - loss: 0.5131 - accuracy: 0.7588 - val_loss: 0.4135 - val_accuracy: 0.8709\n",
      "Epoch 3/20\n",
      "15000/15000 [==============================] - 2s 126us/sample - loss: 0.4284 - accuracy: 0.8221 - val_loss: 0.3407 - val_accuracy: 0.8783\n",
      "Epoch 4/20\n",
      "15000/15000 [==============================] - 2s 126us/sample - loss: 0.3582 - accuracy: 0.8611 - val_loss: 0.2970 - val_accuracy: 0.8870\n",
      "Epoch 5/20\n",
      "15000/15000 [==============================] - 2s 127us/sample - loss: 0.3095 - accuracy: 0.8857 - val_loss: 0.2818 - val_accuracy: 0.8896\n",
      "Epoch 6/20\n",
      "15000/15000 [==============================] - 2s 124us/sample - loss: 0.2723 - accuracy: 0.9022 - val_loss: 0.2758 - val_accuracy: 0.8913\n",
      "Epoch 7/20\n",
      "15000/15000 [==============================] - 2s 125us/sample - loss: 0.2367 - accuracy: 0.9167 - val_loss: 0.2795 - val_accuracy: 0.8893\n",
      "Epoch 8/20\n",
      "15000/15000 [==============================] - 2s 127us/sample - loss: 0.2040 - accuracy: 0.9319 - val_loss: 0.2901 - val_accuracy: 0.8897\n",
      "Epoch 9/20\n",
      "15000/15000 [==============================] - 2s 124us/sample - loss: 0.1903 - accuracy: 0.9353 - val_loss: 0.3115 - val_accuracy: 0.8853\n",
      "Epoch 10/20\n",
      "15000/15000 [==============================] - 2s 129us/sample - loss: 0.1632 - accuracy: 0.9441 - val_loss: 0.3209 - val_accuracy: 0.8858\n",
      "Epoch 11/20\n",
      "15000/15000 [==============================] - 2s 126us/sample - loss: 0.1482 - accuracy: 0.9506 - val_loss: 0.3411 - val_accuracy: 0.8863\n",
      "Epoch 12/20\n",
      "15000/15000 [==============================] - 2s 128us/sample - loss: 0.1344 - accuracy: 0.9530 - val_loss: 0.3616 - val_accuracy: 0.8863\n",
      "Epoch 13/20\n",
      "15000/15000 [==============================] - 2s 125us/sample - loss: 0.1272 - accuracy: 0.9571 - val_loss: 0.3897 - val_accuracy: 0.8821\n",
      "Epoch 14/20\n",
      "15000/15000 [==============================] - 2s 126us/sample - loss: 0.1123 - accuracy: 0.9615 - val_loss: 0.4027 - val_accuracy: 0.8863\n",
      "Epoch 15/20\n",
      "15000/15000 [==============================] - 2s 125us/sample - loss: 0.1079 - accuracy: 0.9631 - val_loss: 0.4354 - val_accuracy: 0.8847\n",
      "Epoch 16/20\n",
      "15000/15000 [==============================] - 2s 130us/sample - loss: 0.1011 - accuracy: 0.9646 - val_loss: 0.4520 - val_accuracy: 0.8835\n",
      "Epoch 17/20\n",
      "15000/15000 [==============================] - 2s 126us/sample - loss: 0.0915 - accuracy: 0.9672 - val_loss: 0.4697 - val_accuracy: 0.8849\n",
      "Epoch 18/20\n",
      "15000/15000 [==============================] - 2s 127us/sample - loss: 0.0830 - accuracy: 0.9711 - val_loss: 0.5157 - val_accuracy: 0.8841\n",
      "Epoch 19/20\n",
      "15000/15000 [==============================] - 2s 129us/sample - loss: 0.0829 - accuracy: 0.9708 - val_loss: 0.5325 - val_accuracy: 0.8810\n",
      "Epoch 20/20\n",
      "15000/15000 [==============================] - 2s 124us/sample - loss: 0.0797 - accuracy: 0.9723 - val_loss: 0.5394 - val_accuracy: 0.8832\n"
     ]
    }
   ],
   "source": [
    "history_drop = network.fit(X, y, epochs = 20, batch_size = 512, validation_data = (val_X, val_y))"
   ]
  },
  {
   "cell_type": "code",
   "execution_count": 14,
   "metadata": {},
   "outputs": [
    {
     "data": {
      "image/png": "[encoded data removed]",
      "text/plain": [
       "<Figure size 432x288 with 1 Axes>"
      ]
     },
     "metadata": {
      "needs_background": "light"
     },
     "output_type": "display_data"
    }
   ],
   "source": [
    "show_loss_comp(orig_history.history, history_drop.history)"
   ]
  },
  {
   "cell_type": "code",
   "execution_count": 15,
   "metadata": {},
   "outputs": [
    {
     "data": {
      "image/png": "[encoded data removed]",
      "text/plain": [
       "<Figure size 432x288 with 1 Axes>"
      ]
     },
     "metadata": {
      "needs_background": "light"
     },
     "output_type": "display_data"
    }
   ],
   "source": [
    "show_acc_comp(orig_history.history, history_drop.history)"
   ]
  },
  {
   "cell_type": "code",
   "execution_count": null,
   "metadata": {},
   "outputs": [],
   "source": []
  }
 ],
 "metadata": {
  "kernelspec": {
   "display_name": "Python 3",
   "language": "python",
   "name": "python3"
  },
  "language_info": {
   "codemirror_mode": {
    "name": "ipython",
    "version": 3
   },
   "file_extension": ".py",
   "mimetype": "text/x-python",
   "name": "python",
   "nbconvert_exporter": "python",
   "pygments_lexer": "ipython3",
   "version": "3.7.3"
  }
 },
 "nbformat": 4,
 "nbformat_minor": 2
}
