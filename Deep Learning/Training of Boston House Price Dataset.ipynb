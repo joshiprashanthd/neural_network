{
 "cells": [
  {
   "cell_type": "code",
   "execution_count": 18,
   "metadata": {},
   "outputs": [],
   "source": [
    "import matplotlib.pyplot as plt\n",
    "from tensorflow.keras import models, layers"
   ]
  },
  {
   "cell_type": "code",
   "execution_count": 2,
   "metadata": {},
   "outputs": [
    {
     "name": "stderr",
     "output_type": "stream",
     "text": [
      "Using TensorFlow backend.\n"
     ]
    }
   ],
   "source": [
    "from keras.datasets import boston_housing\n",
    "(X_train, y_train), (X_test, y_test) = boston_housing.load_data()"
   ]
  },
  {
   "cell_type": "code",
   "execution_count": 3,
   "metadata": {},
   "outputs": [
    {
     "data": {
      "text/plain": [
       "(404, 13)"
      ]
     },
     "execution_count": 3,
     "metadata": {},
     "output_type": "execute_result"
    }
   ],
   "source": [
    "X_train.shape"
   ]
  },
  {
   "cell_type": "code",
   "execution_count": 4,
   "metadata": {},
   "outputs": [
    {
     "data": {
      "text/plain": [
       "(404,)"
      ]
     },
     "execution_count": 4,
     "metadata": {},
     "output_type": "execute_result"
    }
   ],
   "source": [
    "y_train.shape"
   ]
  },
  {
   "cell_type": "markdown",
   "metadata": {},
   "source": [
    "Normalizing training and testing data"
   ]
  },
  {
   "cell_type": "code",
   "execution_count": 5,
   "metadata": {},
   "outputs": [],
   "source": [
    "mean = X_train.mean(axis = 0)\n",
    "X_train -= mean\n",
    "std = X_train.std(axis = 0)\n",
    "X_train /= std\n",
    "\n",
    "X_test -= mean\n",
    "X_test /= std"
   ]
  },
  {
   "cell_type": "code",
   "execution_count": 6,
   "metadata": {},
   "outputs": [],
   "source": [
    "def build_network():\n",
    "    network = models.Sequential()\n",
    "    network.add(layers.Dense(64, activation = \"relu\", input_shape = (13,)))\n",
    "    network.add(layers.Dense(64, activation = \"relu\"))\n",
    "    network.add(layers.Dense(1))\n",
    "    network.compile(optimizer = \"rmsprop\", loss = \"mse\", metrics = [\"mae\"]) # mae = MEAN ABSOLUTE ERROR\n",
    "    return network"
   ]
  },
  {
   "cell_type": "markdown",
   "metadata": {},
   "source": [
    "### Performing K-Fold Cross Validation"
   ]
  },
  {
   "cell_type": "code",
   "execution_count": 7,
   "metadata": {},
   "outputs": [],
   "source": [
    "import numpy as np\n",
    "\n",
    "def perform_k_fold(k = 4, num_epochs = 100):\n",
    "    \n",
    "    num_val_samples = len(X_train) // k\n",
    "    all_scores = []\n",
    "    \n",
    "    for i in range(k): \n",
    "        print('processing fold #', i) \n",
    "        val_data = X_train[i * num_val_samples: (i + 1) * num_val_samples] \n",
    "        val_targets = y_train[i * num_val_samples: (i + 1) * num_val_samples]\n",
    "        partial_train_data = np.concatenate( [X_train[:i * num_val_samples], \n",
    "                                            X_train[(i + 1) * num_val_samples:]], axis=0)\n",
    "        partial_train_targets = np.concatenate( [y_train[:i * num_val_samples], \n",
    "                                                y_train[(i + 1) * num_val_samples:]], axis=0)\n",
    "        model = build_network() \n",
    "        model.fit(partial_train_data, partial_train_targets, epochs=num_epochs, batch_size=1, verbose=0)\n",
    "        val_mse, val_mae = model.evaluate(val_data, val_targets, verbose=0) \n",
    "        all_scores.append(val_mae)\n",
    "        \n",
    "    return all_scores"
   ]
  },
  {
   "cell_type": "code",
   "execution_count": 39,
   "metadata": {},
   "outputs": [
    {
     "name": "stdout",
     "output_type": "stream",
     "text": [
      "processing fold # 0\n",
      "processing fold # 1\n",
      "processing fold # 2\n",
      "processing fold # 3\n"
     ]
    }
   ],
   "source": [
    "validation_score = perform_k_fold()"
   ]
  },
  {
   "cell_type": "code",
   "execution_count": 42,
   "metadata": {},
   "outputs": [
    {
     "data": {
      "text/plain": [
       "2.3404608"
      ]
     },
     "execution_count": 42,
     "metadata": {},
     "output_type": "execute_result"
    }
   ],
   "source": [
    "np.mean(validation_score)"
   ]
  },
  {
   "cell_type": "code",
   "execution_count": 10,
   "metadata": {},
   "outputs": [],
   "source": [
    "import numpy as np\n",
    "\n",
    "def perform_k_fold(k = 4, num_epochs = 100):\n",
    "    \n",
    "    num_val_samples = len(X_train) // k\n",
    "    mae_history = []\n",
    "    \n",
    "    for i in range(k): \n",
    "        print('processing fold #', i) \n",
    "        val_data = X_train[i * num_val_samples: (i + 1) * num_val_samples] \n",
    "        val_targets = y_train[i * num_val_samples: (i + 1) * num_val_samples]\n",
    "        partial_train_data = np.concatenate( [X_train[:i * num_val_samples], \n",
    "                                            X_train[(i + 1) * num_val_samples:]], axis=0)\n",
    "        partial_train_targets = np.concatenate( [y_train[:i * num_val_samples], \n",
    "                                                y_train[(i + 1) * num_val_samples:]], axis=0)\n",
    "        model = build_network() \n",
    "        history = model.fit(partial_train_data, partial_train_targets, epochs=num_epochs, batch_size=1, verbose=0,\n",
    "                           validation_data = (val_data, val_targets)) \n",
    "        mae_history.append(history.history['val_loss'])\n",
    "        \n",
    "    return mae_history"
   ]
  },
  {
   "cell_type": "code",
   "execution_count": 11,
   "metadata": {},
   "outputs": [
    {
     "name": "stdout",
     "output_type": "stream",
     "text": [
      "processing fold # 0\n",
      "processing fold # 1\n",
      "processing fold # 2\n",
      "processing fold # 3\n"
     ]
    }
   ],
   "source": [
    "mae_history = perform_k_fold()"
   ]
  },
  {
   "cell_type": "code",
   "execution_count": 23,
   "metadata": {},
   "outputs": [],
   "source": [
    "average_mae_history = [ np.mean([x[i] for x in mae_history]) for i in range(100)]"
   ]
  },
  {
   "cell_type": "code",
   "execution_count": 24,
   "metadata": {},
   "outputs": [
    {
     "data": {
      "image/png": "[encoded data removed]",
      "text/plain": [
       "<Figure size 432x288 with 1 Axes>"
      ]
     },
     "metadata": {
      "needs_background": "light"
     },
     "output_type": "display_data"
    }
   ],
   "source": [
    "plt.plot(range(1, len(average_mae_history) + 1), average_mae_history) \n",
    "plt.xlabel('Epochs') \n",
    "plt.ylabel('Validation MAE') \n",
    "plt.show()"
   ]
  },
  {
   "cell_type": "code",
   "execution_count": null,
   "metadata": {},
   "outputs": [],
   "source": []
  }
 ],
 "metadata": {
  "kernelspec": {
   "display_name": "Python 3",
   "language": "python",
   "name": "python3"
  },
  "language_info": {
   "codemirror_mode": {
    "name": "ipython",
    "version": 3
   },
   "file_extension": ".py",
   "mimetype": "text/x-python",
   "name": "python",
   "nbconvert_exporter": "python",
   "pygments_lexer": "ipython3",
   "version": "3.7.3"
  }
 },
 "nbformat": 4,
 "nbformat_minor": 2
}
