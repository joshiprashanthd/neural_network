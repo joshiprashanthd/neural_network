{
 "cells": [
  {
   "cell_type": "markdown",
   "metadata": {},
   "source": [
    "# Tensors"
   ]
  },
  {
   "cell_type": "markdown",
   "metadata": {},
   "source": [
    "A tensor is container, consist of numerical data such float32 or int32, having multidimensions"
   ]
  },
  {
   "cell_type": "markdown",
   "metadata": {},
   "source": [
    "### Scalar Tensors"
   ]
  },
  {
   "cell_type": "markdown",
   "metadata": {},
   "source": [
    "Tensors which contain only one digit, and having number of axes are zero"
   ]
  },
  {
   "cell_type": "code",
   "execution_count": 2,
   "metadata": {},
   "outputs": [
    {
     "name": "stdout",
     "output_type": "stream",
     "text": [
      "x =  12\n",
      "dimesions =  0\n"
     ]
    }
   ],
   "source": [
    "import numpy as np\n",
    "x = np.array(12);\n",
    "print('x = ', x)\n",
    "print('dimesions = ', x.ndim)"
   ]
  },
  {
   "cell_type": "markdown",
   "metadata": {},
   "source": [
    "### 1D Tensors"
   ]
  },
  {
   "cell_type": "markdown",
   "metadata": {},
   "source": [
    "A array of numerical data, is called as vector or *1D tensor*"
   ]
  },
  {
   "cell_type": "code",
   "execution_count": 3,
   "metadata": {},
   "outputs": [
    {
     "name": "stdout",
     "output_type": "stream",
     "text": [
      "x =  [2 3 7 2 9]\n",
      "dimesions =  1\n"
     ]
    }
   ],
   "source": [
    "x = np.array([2, 3, 7, 2, 9])\n",
    "print('x = ', x)\n",
    "print('dimesions = ', x.ndim)"
   ]
  },
  {
   "cell_type": "markdown",
   "metadata": {},
   "source": [
    "### 2D Tensors"
   ]
  },
  {
   "cell_type": "markdown",
   "metadata": {},
   "source": [
    "A array of vectors is matrix or a **2D Tensor**. A matrix has two axes, named as *rows* and *columns*"
   ]
  },
  {
   "cell_type": "code",
   "execution_count": 5,
   "metadata": {},
   "outputs": [
    {
     "name": "stdout",
     "output_type": "stream",
     "text": [
      "x = \n",
      " [[2 3 4 5]\n",
      " [4 3 6 5]\n",
      " [8 2 1 4]]\n",
      "dimesions =  2\n"
     ]
    }
   ],
   "source": [
    "x = np.array([[2, 3, 4, 5], [4, 3, 6, 5], [8, 2, 1, 4]])\n",
    "print('x = \\n', x)\n",
    "print('dimesions = ', x.ndim)"
   ]
  },
  {
   "cell_type": "markdown",
   "metadata": {},
   "source": [
    "### 3D Tensors"
   ]
  },
  {
   "cell_type": "markdown",
   "metadata": {},
   "source": [
    "If we pack 2D tensors in a array, we obtain a **3D Tensor** also called as *cubic tensor* "
   ]
  },
  {
   "cell_type": "code",
   "execution_count": 6,
   "metadata": {},
   "outputs": [
    {
     "name": "stdout",
     "output_type": "stream",
     "text": [
      "x = \n",
      " [[[2 3 4 5]\n",
      "  [4 3 6 5]\n",
      "  [8 2 1 4]]\n",
      "\n",
      " [[2 3 4 5]\n",
      "  [4 3 6 5]\n",
      "  [8 2 1 4]]]\n",
      "dimesions =  3\n"
     ]
    }
   ],
   "source": [
    "x = np.array([[[2, 3, 4, 5], [4, 3, 6, 5], [8, 2, 1, 4]], [[2, 3, 4, 5], [4, 3, 6, 5], [8, 2, 1, 4]]])\n",
    "print('x = \\n', x)\n",
    "print('dimesions = ', x.ndim)"
   ]
  },
  {
   "cell_type": "code",
   "execution_count": null,
   "metadata": {},
   "outputs": [],
   "source": []
  }
 ],
 "metadata": {
  "kernelspec": {
   "display_name": "Python 3",
   "language": "python",
   "name": "python3"
  },
  "language_info": {
   "codemirror_mode": {
    "name": "ipython",
    "version": 3
   },
   "file_extension": ".py",
   "mimetype": "text/x-python",
   "name": "python",
   "nbconvert_exporter": "python",
   "pygments_lexer": "ipython3",
   "version": "3.7.3"
  }
 },
 "nbformat": 4,
 "nbformat_minor": 2
}
