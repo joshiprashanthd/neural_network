{
 "cells": [
  {
   "cell_type": "markdown",
   "metadata": {},
   "source": [
    "# Importing Dataset"
   ]
  },
  {
   "cell_type": "code",
   "execution_count": 11,
   "metadata": {},
   "outputs": [],
   "source": [
    "import os, shutil"
   ]
  },
  {
   "cell_type": "code",
   "execution_count": 9,
   "metadata": {},
   "outputs": [],
   "source": [
    "base_dir = 'C:\\\\Users\\\\Jastor\\\\Desktop\\\\MY ML\\\\Practise\\\\Deep Learning\\\\Convulutional Neural Network Layers\\\\cats_and_dog_small'\n",
    "original_dataset_dir = 'F:\\\\kaggle_dataset\\\\train'"
   ]
  },
  {
   "cell_type": "code",
   "execution_count": 6,
   "metadata": {},
   "outputs": [],
   "source": [
    "os.mkdir(base_dir)"
   ]
  },
  {
   "cell_type": "code",
   "execution_count": 12,
   "metadata": {},
   "outputs": [],
   "source": [
    "# making superfolders for training, validation and testing data\n",
    "train_dir = os.path.join(base_dir, 'train')\n",
    "# os.mkdir(train_dir)\n",
    "\n",
    "validation_dir = os.path.join(base_dir, 'validation')\n",
    "# os.mkdir(validation_dir)\n",
    "\n",
    "test_dir = os.path.join(base_dir, 'test')\n",
    "# os.mkdir(test_dir)"
   ]
  },
  {
   "cell_type": "code",
   "execution_count": 10,
   "metadata": {},
   "outputs": [],
   "source": [
    "# making specific folders for cats and dogs images in superfolders\n",
    "train_cats_dir = os.path.join(train_dir, 'cats')\n",
    "os.mkdir(train_cats_dir)\n",
    "\n",
    "train_dogs_dir = os.path.join(train_dir, 'dogs')\n",
    "os.mkdir(train_dogs_dir)\n",
    "\n",
    "valid_cats_dir = os.path.join(validation_dir, 'cats')\n",
    "os.mkdir(valid_cats_dir)\n",
    "\n",
    "valid_dogs_dir = os.path.join(validation_dir, 'dogs')\n",
    "os.mkdir(valid_dogs_dir)\n",
    "\n",
    "test_cats_dir = os.path.join(test_dir, 'cats')\n",
    "os.mkdir(test_cats_dir)\n",
    "\n",
    "test_dogs_dir = os.path.join(test_dir, 'dogs')\n",
    "os.mkdir(test_dogs_dir)"
   ]
  },
  {
   "cell_type": "code",
   "execution_count": 18,
   "metadata": {},
   "outputs": [],
   "source": [
    "orig_cats_dir = os.path.join(original_dataset_dir, 'cats')\n",
    "orig_dogs_dir = os.path.join(original_dataset_dir, 'dogs')\n",
    "\n",
    "fnames = ['cat.{}.jpg'.format(i) for i in range(0, 1000)]\n",
    "for fname in fnames:\n",
    "    src = os.path.join(orig_cats_dir, fname)\n",
    "    dst = os.path.join(train_cats_dir, fname)\n",
    "    shutil.copyfile(src, dst)\n",
    "    \n",
    "fnames = ['cat.{}.jpg'.format(i) for i in range(1000, 1500)]\n",
    "for fname in fnames:\n",
    "    src = os.path.join(orig_cats_dir, fname)\n",
    "    dst = os.path.join(valid_cats_dir, fname)\n",
    "    shutil.copyfile(src, dst)\n",
    "\n",
    "fnames = ['cat.{}.jpg'.format(i) for i in range(1500, 2000)]\n",
    "for fname in fnames:\n",
    "    src = os.path.join(orig_cats_dir, fname)\n",
    "    dst = os.path.join(test_cats_dir, fname)\n",
    "    shutil.copyfile(src, dst)\n",
    "    \n",
    "fnames = ['dog.{}.jpg'.format(i) for i in range(0, 1000)]\n",
    "for fname in fnames:\n",
    "    src = os.path.join(orig_dogs_dir, fname)\n",
    "    dst = os.path.join(train_dogs_dir, fname)\n",
    "    shutil.copyfile(src, dst)\n",
    "    \n",
    "fnames = ['dog.{}.jpg'.format(i) for i in range(1000, 1500)]\n",
    "for fname in fnames:\n",
    "    src = os.path.join(orig_dogs_dir, fname)\n",
    "    dst = os.path.join(valid_dogs_dir, fname)\n",
    "    shutil.copyfile(src, dst)\n",
    "\n",
    "fnames = ['dog.{}.jpg'.format(i) for i in range(1500, 2000)]\n",
    "for fname in fnames:\n",
    "    src = os.path.join(orig_dogs_dir, fname)\n",
    "    dst = os.path.join(test_dogs_dir, fname)\n",
    "    shutil.copyfile(src, dst)"
   ]
  },
  {
   "cell_type": "markdown",
   "metadata": {},
   "source": [
    "# Its time to create Neural Network"
   ]
  },
  {
   "cell_type": "code",
   "execution_count": 2,
   "metadata": {},
   "outputs": [],
   "source": [
    "import numpy as np\n",
    "import matplotlib.pyplot as plt\n",
    "import plaidml.keras\n",
    "plaidml.keras.install_backend()\n",
    "\n",
    "from keras import models, layers"
   ]
  },
  {
   "cell_type": "code",
   "execution_count": 23,
   "metadata": {},
   "outputs": [],
   "source": [
    "network = models.Sequential() \n",
    "network.add(layers.Conv2D(32, (3, 3), activation='relu', input_shape=(150, 150, 3)))\n",
    "network.add(layers.MaxPooling2D((2, 2))) \n",
    "network.add(layers.Conv2D(64, (3, 3), activation='relu')) \n",
    "network.add(layers.MaxPooling2D((2, 2))) \n",
    "network.add(layers.Conv2D(128, (3, 3), activation='relu')) \n",
    "network.add(layers.MaxPooling2D((2, 2))) \n",
    "network.add(layers.Conv2D(128, (3, 3), activation='relu')) \n",
    "network.add(layers.MaxPooling2D((2, 2))) \n",
    "network.add(layers.Flatten())\n",
    "network.add(layers.Dense(512, activation='relu')) \n",
    "network.add(layers.Dense(1, activation='sigmoid'))"
   ]
  },
  {
   "cell_type": "code",
   "execution_count": 55,
   "metadata": {},
   "outputs": [
    {
     "name": "stdout",
     "output_type": "stream",
     "text": [
      "_________________________________________________________________\n",
      "Layer (type)                 Output Shape              Param #   \n",
      "=================================================================\n",
      "conv2d_11 (Conv2D)           (None, 148, 148, 32)      896       \n",
      "_________________________________________________________________\n",
      "max_pooling2d_11 (MaxPooling (None, 74, 74, 32)        0         \n",
      "_________________________________________________________________\n",
      "conv2d_12 (Conv2D)           (None, 72, 72, 64)        18496     \n",
      "_________________________________________________________________\n",
      "max_pooling2d_12 (MaxPooling (None, 36, 36, 64)        0         \n",
      "_________________________________________________________________\n",
      "conv2d_13 (Conv2D)           (None, 34, 34, 128)       73856     \n",
      "_________________________________________________________________\n",
      "max_pooling2d_13 (MaxPooling (None, 17, 17, 128)       0         \n",
      "_________________________________________________________________\n",
      "conv2d_14 (Conv2D)           (None, 15, 15, 128)       147584    \n",
      "_________________________________________________________________\n",
      "max_pooling2d_14 (MaxPooling (None, 7, 7, 128)         0         \n",
      "_________________________________________________________________\n",
      "flatten_4 (Flatten)          (None, 6272)              0         \n",
      "_________________________________________________________________\n",
      "dense_7 (Dense)              (None, 512)               3211776   \n",
      "_________________________________________________________________\n",
      "dense_8 (Dense)              (None, 1)                 513       \n",
      "=================================================================\n",
      "Total params: 3,453,121\n",
      "Trainable params: 3,453,121\n",
      "Non-trainable params: 0\n",
      "_________________________________________________________________\n"
     ]
    }
   ],
   "source": [
    "network.summary()"
   ]
  },
  {
   "cell_type": "code",
   "execution_count": 59,
   "metadata": {},
   "outputs": [],
   "source": [
    "from keras import optimizers\n",
    "\n",
    "network.compile(optimizer = 'adam', loss = \"binary_crossentropy\", metrics = ['accuracy'])"
   ]
  },
  {
   "cell_type": "markdown",
   "metadata": {},
   "source": [
    "# Image Preprocessing"
   ]
  },
  {
   "cell_type": "markdown",
   "metadata": {},
   "source": [
    "Before feeding Neural Network with training data, we have to preprocess it.\n",
    "There are 4 steps to make appropriate training and testing data that can be fed to Neural Network"
   ]
  },
  {
   "cell_type": "markdown",
   "metadata": {},
   "source": [
    "**1. Read the picture files**\n",
    "\n",
    "**2. Decode JPEG content to RGB grid of pixels**\n",
    "\n",
    "**3. Convert these into floating-point tensors**\n",
    "\n",
    "**4. Rescale the pixels values (between 0 to 255) to in range [0, 1]**"
   ]
  },
  {
   "cell_type": "code",
   "execution_count": 44,
   "metadata": {},
   "outputs": [
    {
     "name": "stdout",
     "output_type": "stream",
     "text": [
      "Found 2000 images belonging to 2 classes.\n",
      "Found 1000 images belonging to 2 classes.\n"
     ]
    }
   ],
   "source": [
    "from tensorflow.keras.preprocessing.image import ImageDataGenerator\n",
    "\n",
    "train_datagen = ImageDataGenerator(rescale = 1./255)\n",
    "test_datagen = ImageDataGenerator(rescale = 1./255)\n",
    "\n",
    "train_generator = train_datagen.flow_from_directory(train_dir, target_size = (150, 150), batch_size = 20, class_mode = 'binary')\n",
    "validation_generator = test_datagen.flow_from_directory(validation_dir, target_size = (150, 150), batch_size = 20, class_mode = 'binary')"
   ]
  },
  {
   "cell_type": "code",
   "execution_count": 45,
   "metadata": {},
   "outputs": [
    {
     "name": "stdout",
     "output_type": "stream",
     "text": [
      "data_batch_shape: (20, 150, 150, 3)\n",
      "labels_batch_shape: (20,)\n",
      "unique labels: 2\n"
     ]
    }
   ],
   "source": [
    "for data_batch, labels_batch in train_generator:\n",
    "    print(\"data_batch_shape: {}\".format(data_batch.shape))\n",
    "    print(\"labels_batch_shape: {}\".format(labels_batch.shape))\n",
    "    print(\"unique labels: {}\".format(len(set(labels_batch))))\n",
    "    break"
   ]
  },
  {
   "cell_type": "markdown",
   "metadata": {},
   "source": [
    "# Fitting data into the model"
   ]
  },
  {
   "cell_type": "code",
   "execution_count": 60,
   "metadata": {
    "scrolled": false
   },
   "outputs": [
    {
     "name": "stdout",
     "output_type": "stream",
     "text": [
      "Epoch 1/20\n"
     ]
    },
    {
     "name": "stderr",
     "output_type": "stream",
     "text": [
      "INFO:plaidml:Analyzing Ops: 69 of 290 operations complete\n"
     ]
    },
    {
     "name": "stdout",
     "output_type": "stream",
     "text": [
      "100/100 [==============================] - 41s 406ms/step - loss: 0.6962 - acc: 0.5005 - val_loss: 0.6919 - val_acc: 0.5210\n",
      "Epoch 2/20\n",
      "100/100 [==============================] - 31s 311ms/step - loss: 0.6842 - acc: 0.5490 - val_loss: 0.6474 - val_acc: 0.6380\n",
      "Epoch 3/20\n",
      "100/100 [==============================] - 31s 311ms/step - loss: 0.6637 - acc: 0.6060 - val_loss: 0.6437 - val_acc: 0.6090\n",
      "Epoch 4/20\n",
      "100/100 [==============================] - 31s 310ms/step - loss: 0.6421 - acc: 0.6345 - val_loss: 0.6282 - val_acc: 0.6460\n",
      "Epoch 5/20\n",
      "100/100 [==============================] - 31s 309ms/step - loss: 0.6075 - acc: 0.6750 - val_loss: 0.6050 - val_acc: 0.6590\n",
      "Epoch 6/20\n",
      "100/100 [==============================] - 31s 313ms/step - loss: 0.5526 - acc: 0.7115 - val_loss: 0.6091 - val_acc: 0.6780\n",
      "Epoch 7/20\n",
      "100/100 [==============================] - 32s 315ms/step - loss: 0.4799 - acc: 0.7555 - val_loss: 0.6329 - val_acc: 0.6800\n",
      "Epoch 8/20\n",
      "100/100 [==============================] - 31s 314ms/step - loss: 0.4181 - acc: 0.8060 - val_loss: 0.6250 - val_acc: 0.6980\n",
      "Epoch 9/20\n",
      "100/100 [==============================] - 32s 315ms/step - loss: 0.2985 - acc: 0.8630 - val_loss: 0.7344 - val_acc: 0.6880\n",
      "Epoch 10/20\n",
      "100/100 [==============================] - 31s 314ms/step - loss: 0.1807 - acc: 0.9340 - val_loss: 0.9852 - val_acc: 0.6940\n",
      "Epoch 11/20\n",
      "100/100 [==============================] - 32s 316ms/step - loss: 0.1047 - acc: 0.9585 - val_loss: 1.3703 - val_acc: 0.6940\n",
      "Epoch 12/20\n",
      "100/100 [==============================] - 31s 314ms/step - loss: 0.0666 - acc: 0.9795 - val_loss: 1.3765 - val_acc: 0.6930\n",
      "Epoch 13/20\n",
      "100/100 [==============================] - 32s 316ms/step - loss: 0.0518 - acc: 0.9815 - val_loss: 1.4053 - val_acc: 0.6850\n",
      "Epoch 14/20\n",
      "100/100 [==============================] - 32s 316ms/step - loss: 0.0600 - acc: 0.9815 - val_loss: 1.6004 - val_acc: 0.6780\n",
      "Epoch 15/20\n",
      "100/100 [==============================] - 31s 315ms/step - loss: 0.0225 - acc: 0.9910 - val_loss: 1.5208 - val_acc: 0.7070\n",
      "Epoch 16/20\n",
      "100/100 [==============================] - 31s 314ms/step - loss: 0.0141 - acc: 0.9960 - val_loss: 1.9693 - val_acc: 0.6940\n",
      "Epoch 17/20\n",
      "100/100 [==============================] - 32s 316ms/step - loss: 0.0415 - acc: 0.9910 - val_loss: 1.8628 - val_acc: 0.6820\n",
      "Epoch 18/20\n",
      "100/100 [==============================] - 30s 299ms/step - loss: 0.0548 - acc: 0.9820 - val_loss: 1.7571 - val_acc: 0.7130\n",
      "Epoch 19/20\n",
      "100/100 [==============================] - 31s 306ms/step - loss: 0.0039 - acc: 0.9990 - val_loss: 1.8078 - val_acc: 0.7120\n",
      "Epoch 20/20\n",
      "100/100 [==============================] - 30s 305ms/step - loss: 7.2810e-04 - acc: 1.0000 - val_loss: 2.1118 - val_acc: 0.6920\n"
     ]
    }
   ],
   "source": [
    "history = network.fit_generator(train_generator, steps_per_epoch=100, epochs = 20, validation_data = validation_generator, validation_steps=50)"
   ]
  },
  {
   "cell_type": "code",
   "execution_count": 19,
   "metadata": {},
   "outputs": [],
   "source": [
    "def show_loss(hist, epochs = 5):\n",
    "    loss = hist['loss']\n",
    "    val_loss = hist['val_loss']\n",
    "    epoch = range(1, epochs+1)\n",
    "    plt.plot(epoch, loss, 'bo', label = \"Training Loss\")\n",
    "    plt.plot(epoch, val_loss, 'b', label = \"Validation Loss\")\n",
    "    plt.show()\n",
    "    \n",
    "def show_accuracy(hist, epochs = 5):\n",
    "    acc = hist['acc']\n",
    "    val_acc = hist['val_acc']\n",
    "    epoch = range(1, epochs+1)\n",
    "    plt.plot(epoch, acc, 'bo', label = \"Training Accuracy\")\n",
    "    plt.plot(epoch, val_acc, 'b', label = \"Validation Accuracy\")\n",
    "    plt.show()"
   ]
  },
  {
   "cell_type": "code",
   "execution_count": 62,
   "metadata": {},
   "outputs": [
    {
     "data": {
      "image/png": "[encoded data removed]",
      "text/plain": [
       "<Figure size 432x288 with 1 Axes>"
      ]
     },
     "metadata": {
      "needs_background": "light"
     },
     "output_type": "display_data"
    }
   ],
   "source": [
    "show_loss(history.history, epochs = 20)"
   ]
  },
  {
   "cell_type": "code",
   "execution_count": 63,
   "metadata": {},
   "outputs": [
    {
     "data": {
      "image/png": "[encoded data removed]",
      "text/plain": [
       "<Figure size 432x288 with 1 Axes>"
      ]
     },
     "metadata": {
      "needs_background": "light"
     },
     "output_type": "display_data"
    }
   ],
   "source": [
    "show_accuracy(history.history, epochs = 20)"
   ]
  },
  {
   "cell_type": "markdown",
   "metadata": {},
   "source": [
    "# Now we use Data Augmentation"
   ]
  },
  {
   "cell_type": "markdown",
   "metadata": {},
   "source": [
    "Data Augmentation consist of operations such as zooming, shearing images, flipping them, but keep them what I called *classifiable* for classification and making somewhat new images, which let the neural network learn every aspects of the dataset."
   ]
  },
  {
   "cell_type": "code",
   "execution_count": 3,
   "metadata": {},
   "outputs": [
    {
     "name": "stderr",
     "output_type": "stream",
     "text": [
      "INFO:plaidml:Opening device \"opencl_amd_iceland.0\"\n"
     ]
    }
   ],
   "source": [
    "network = models.Sequential() \n",
    "network.add(layers.Conv2D(32, (3, 3), activation='relu', input_shape=(150, 150, 3)))\n",
    "network.add(layers.MaxPooling2D((2, 2))) \n",
    "network.add(layers.Conv2D(64, (3, 3), activation='relu')) \n",
    "network.add(layers.MaxPooling2D((2, 2))) \n",
    "network.add(layers.Conv2D(128, (3, 3), activation='relu')) \n",
    "network.add(layers.MaxPooling2D((2, 2))) \n",
    "network.add(layers.Conv2D(128, (3, 3), activation='relu')) \n",
    "network.add(layers.MaxPooling2D((2, 2))) \n",
    "network.add(layers.Flatten())\n",
    "network.add(layers.Dropout(0.5))\n",
    "network.add(layers.Dense(512, activation='relu')) \n",
    "network.add(layers.Dense(1, activation='sigmoid'))"
   ]
  },
  {
   "cell_type": "code",
   "execution_count": 4,
   "metadata": {
    "scrolled": true
   },
   "outputs": [
    {
     "name": "stdout",
     "output_type": "stream",
     "text": [
      "_________________________________________________________________\n",
      "Layer (type)                 Output Shape              Param #   \n",
      "=================================================================\n",
      "conv2d_1 (Conv2D)            (None, 148, 148, 32)      896       \n",
      "_________________________________________________________________\n",
      "max_pooling2d_1 (MaxPooling2 (None, 74, 74, 32)        0         \n",
      "_________________________________________________________________\n",
      "conv2d_2 (Conv2D)            (None, 72, 72, 64)        18496     \n",
      "_________________________________________________________________\n",
      "max_pooling2d_2 (MaxPooling2 (None, 36, 36, 64)        0         \n",
      "_________________________________________________________________\n",
      "conv2d_3 (Conv2D)            (None, 34, 34, 128)       73856     \n",
      "_________________________________________________________________\n",
      "max_pooling2d_3 (MaxPooling2 (None, 17, 17, 128)       0         \n",
      "_________________________________________________________________\n",
      "conv2d_4 (Conv2D)            (None, 15, 15, 128)       147584    \n",
      "_________________________________________________________________\n",
      "max_pooling2d_4 (MaxPooling2 (None, 7, 7, 128)         0         \n",
      "_________________________________________________________________\n",
      "flatten_1 (Flatten)          (None, 6272)              0         \n",
      "_________________________________________________________________\n",
      "dropout_1 (Dropout)          (None, 6272)              0         \n",
      "_________________________________________________________________\n",
      "dense_1 (Dense)              (None, 512)               3211776   \n",
      "_________________________________________________________________\n",
      "dense_2 (Dense)              (None, 1)                 513       \n",
      "=================================================================\n",
      "Total params: 3,453,121\n",
      "Trainable params: 3,453,121\n",
      "Non-trainable params: 0\n",
      "_________________________________________________________________\n"
     ]
    }
   ],
   "source": [
    "network.summary()"
   ]
  },
  {
   "cell_type": "code",
   "execution_count": 5,
   "metadata": {},
   "outputs": [],
   "source": [
    "from keras import optimizers\n",
    "network.compile(optimizer=optimizers.RMSprop(lr=1e-4), loss = 'binary_crossentropy', metrics = ['accuracy'])"
   ]
  },
  {
   "cell_type": "code",
   "execution_count": 13,
   "metadata": {},
   "outputs": [],
   "source": [
    "from keras.preprocessing.image import ImageDataGenerator\n",
    "train_datagen = ImageDataGenerator(rescale=1./255, \n",
    "                                   shear_range=0.2, \n",
    "                                   zoom_range=0.2, \n",
    "                                   rotation_range=40, \n",
    "                                   width_shift_range=0.2, \n",
    "                                   height_shift_range=0.2, \n",
    "                                   horizontal_flip=True)\n",
    "test_datagen = ImageDataGenerator(rescale = 1./255)"
   ]
  },
  {
   "cell_type": "code",
   "execution_count": 14,
   "metadata": {},
   "outputs": [
    {
     "name": "stdout",
     "output_type": "stream",
     "text": [
      "Found 2000 images belonging to 2 classes.\n",
      "Found 1000 images belonging to 2 classes.\n"
     ]
    }
   ],
   "source": [
    "train_set = train_datagen.flow_from_directory(train_dir, target_size = (150, 150), batch_size = 32, class_mode='binary')\n",
    "validation_set = test_datagen.flow_from_directory(validation_dir, target_size = (150, 150), batch_size = 32, class_mode='binary')"
   ]
  },
  {
   "cell_type": "code",
   "execution_count": 17,
   "metadata": {
    "scrolled": true
   },
   "outputs": [
    {
     "name": "stdout",
     "output_type": "stream",
     "text": [
      "Epoch 1/40\n"
     ]
    },
    {
     "name": "stderr",
     "output_type": "stream",
     "text": [
      "INFO:plaidml:Analyzing Ops: 134 of 255 operations complete\n"
     ]
    },
    {
     "name": "stdout",
     "output_type": "stream",
     "text": [
      "\r",
      " 1/63 [..............................] - ETA: 7:49 - loss: 0.6946 - acc: 0.5000"
     ]
    },
    {
     "name": "stderr",
     "output_type": "stream",
     "text": [
      "INFO:plaidml:Analyzing Ops: 84 of 255 operations complete\n"
     ]
    },
    {
     "name": "stdout",
     "output_type": "stream",
     "text": [
      "63/63 [==============================] - 44s 704ms/step - loss: 0.6953 - acc: 0.4945 - val_loss: 0.6864 - val_acc: 0.5110\n",
      "Epoch 2/40\n",
      "63/63 [==============================] - 27s 425ms/step - loss: 0.6881 - acc: 0.5451 - val_loss: 0.6758 - val_acc: 0.5400\n",
      "Epoch 3/40\n",
      "63/63 [==============================] - 28s 439ms/step - loss: 0.6756 - acc: 0.5754 - val_loss: 0.6826 - val_acc: 0.5550\n",
      "Epoch 4/40\n",
      "63/63 [==============================] - 28s 441ms/step - loss: 0.6670 - acc: 0.5992 - val_loss: 0.6694 - val_acc: 0.5690\n",
      "Epoch 5/40\n",
      "63/63 [==============================] - 28s 442ms/step - loss: 0.6557 - acc: 0.6126 - val_loss: 0.6428 - val_acc: 0.6190\n",
      "Epoch 6/40\n",
      "63/63 [==============================] - 28s 441ms/step - loss: 0.6521 - acc: 0.6032 - val_loss: 0.6756 - val_acc: 0.5760\n",
      "Epoch 7/40\n",
      "63/63 [==============================] - 28s 442ms/step - loss: 0.6442 - acc: 0.6275 - val_loss: 0.6123 - val_acc: 0.6560\n",
      "Epoch 8/40\n",
      "63/63 [==============================] - 28s 443ms/step - loss: 0.6301 - acc: 0.6528 - val_loss: 0.6049 - val_acc: 0.6560\n",
      "Epoch 9/40\n",
      "63/63 [==============================] - 28s 445ms/step - loss: 0.6208 - acc: 0.6647 - val_loss: 0.7105 - val_acc: 0.5470\n",
      "Epoch 10/40\n",
      "63/63 [==============================] - 28s 444ms/step - loss: 0.6247 - acc: 0.6394 - val_loss: 0.5974 - val_acc: 0.6640\n",
      "Epoch 11/40\n",
      "63/63 [==============================] - 28s 445ms/step - loss: 0.6214 - acc: 0.6528 - val_loss: 0.5766 - val_acc: 0.6930\n",
      "Epoch 12/40\n",
      "63/63 [==============================] - 28s 444ms/step - loss: 0.6006 - acc: 0.6875 - val_loss: 0.5647 - val_acc: 0.6980\n",
      "Epoch 13/40\n",
      "63/63 [==============================] - 28s 445ms/step - loss: 0.5891 - acc: 0.6860 - val_loss: 0.5563 - val_acc: 0.6960\n",
      "Epoch 14/40\n",
      "63/63 [==============================] - 28s 447ms/step - loss: 0.5944 - acc: 0.6880 - val_loss: 0.5982 - val_acc: 0.6620\n",
      "Epoch 15/40\n",
      "63/63 [==============================] - 28s 443ms/step - loss: 0.6009 - acc: 0.6840 - val_loss: 0.5493 - val_acc: 0.7090\n",
      "Epoch 16/40\n",
      "63/63 [==============================] - 28s 440ms/step - loss: 0.5727 - acc: 0.7073 - val_loss: 0.5514 - val_acc: 0.6980\n",
      "Epoch 17/40\n",
      "63/63 [==============================] - 28s 442ms/step - loss: 0.5850 - acc: 0.6746 - val_loss: 0.6307 - val_acc: 0.6480\n",
      "Epoch 18/40\n",
      "63/63 [==============================] - 28s 444ms/step - loss: 0.5750 - acc: 0.7009 - val_loss: 0.5357 - val_acc: 0.7200\n",
      "Epoch 19/40\n",
      "63/63 [==============================] - 28s 443ms/step - loss: 0.5723 - acc: 0.7083 - val_loss: 0.5699 - val_acc: 0.6900\n",
      "Epoch 20/40\n",
      "63/63 [==============================] - 28s 440ms/step - loss: 0.5715 - acc: 0.6974 - val_loss: 0.5399 - val_acc: 0.7140\n",
      "Epoch 21/40\n",
      "63/63 [==============================] - 28s 442ms/step - loss: 0.5644 - acc: 0.6979 - val_loss: 0.5263 - val_acc: 0.7270\n",
      "Epoch 22/40\n",
      "63/63 [==============================] - 28s 437ms/step - loss: 0.5640 - acc: 0.7034 - val_loss: 0.5637 - val_acc: 0.6950\n",
      "Epoch 23/40\n",
      "63/63 [==============================] - 28s 447ms/step - loss: 0.5537 - acc: 0.7158 - val_loss: 0.5189 - val_acc: 0.7310\n",
      "Epoch 24/40\n",
      "63/63 [==============================] - 28s 444ms/step - loss: 0.5476 - acc: 0.7242 - val_loss: 0.5192 - val_acc: 0.7320\n",
      "Epoch 25/40\n",
      "63/63 [==============================] - 28s 442ms/step - loss: 0.5425 - acc: 0.7217 - val_loss: 0.5542 - val_acc: 0.6980\n",
      "Epoch 26/40\n",
      "63/63 [==============================] - 28s 444ms/step - loss: 0.5581 - acc: 0.7093 - val_loss: 0.5059 - val_acc: 0.7580\n",
      "Epoch 27/40\n",
      "63/63 [==============================] - 28s 446ms/step - loss: 0.5364 - acc: 0.7237 - val_loss: 0.5061 - val_acc: 0.7470\n",
      "Epoch 28/40\n",
      "63/63 [==============================] - 28s 445ms/step - loss: 0.5443 - acc: 0.7252 - val_loss: 0.5214 - val_acc: 0.7320\n",
      "Epoch 29/40\n",
      "63/63 [==============================] - 28s 444ms/step - loss: 0.5396 - acc: 0.7257 - val_loss: 0.5467 - val_acc: 0.7260\n",
      "Epoch 30/40\n",
      "63/63 [==============================] - 28s 446ms/step - loss: 0.5372 - acc: 0.7227 - val_loss: 0.5200 - val_acc: 0.7310\n",
      "Epoch 31/40\n",
      "63/63 [==============================] - 28s 446ms/step - loss: 0.5325 - acc: 0.7307 - val_loss: 0.4977 - val_acc: 0.7410\n",
      "Epoch 32/40\n",
      "63/63 [==============================] - 28s 444ms/step - loss: 0.5361 - acc: 0.7336 - val_loss: 0.5039 - val_acc: 0.7490\n",
      "Epoch 33/40\n",
      "63/63 [==============================] - 28s 445ms/step - loss: 0.5223 - acc: 0.7406 - val_loss: 0.5213 - val_acc: 0.7310\n",
      "Epoch 34/40\n",
      "63/63 [==============================] - 28s 444ms/step - loss: 0.5341 - acc: 0.7376 - val_loss: 0.4875 - val_acc: 0.7510\n",
      "Epoch 35/40\n",
      "63/63 [==============================] - 28s 443ms/step - loss: 0.5346 - acc: 0.7183 - val_loss: 0.4878 - val_acc: 0.7500\n",
      "Epoch 36/40\n",
      "63/63 [==============================] - 28s 442ms/step - loss: 0.5146 - acc: 0.7381 - val_loss: 0.4774 - val_acc: 0.7590\n",
      "Epoch 37/40\n",
      "63/63 [==============================] - 28s 447ms/step - loss: 0.5198 - acc: 0.7446 - val_loss: 0.5048 - val_acc: 0.7370\n",
      "Epoch 38/40\n",
      "63/63 [==============================] - 28s 444ms/step - loss: 0.5123 - acc: 0.7416 - val_loss: 0.5039 - val_acc: 0.7390\n",
      "Epoch 39/40\n",
      "63/63 [==============================] - 28s 445ms/step - loss: 0.5218 - acc: 0.7376 - val_loss: 0.4903 - val_acc: 0.7540\n",
      "Epoch 40/40\n",
      "63/63 [==============================] - 28s 445ms/step - loss: 0.5092 - acc: 0.7490 - val_loss: 0.4901 - val_acc: 0.7540\n"
     ]
    }
   ],
   "source": [
    "history_1 = network.fit_generator(train_set, steps_per_epoch=len(train_set), epochs = 40, validation_data=validation_set, validation_steps=len(validation_set))"
   ]
  },
  {
   "cell_type": "code",
   "execution_count": 20,
   "metadata": {},
   "outputs": [
    {
     "data": {
      "image/png": "[encoded data removed]",
      "text/plain": [
       "<Figure size 432x288 with 1 Axes>"
      ]
     },
     "metadata": {
      "needs_background": "light"
     },
     "output_type": "display_data"
    }
   ],
   "source": [
    "show_loss(history_1.history, epochs = 40)"
   ]
  },
  {
   "cell_type": "code",
   "execution_count": 22,
   "metadata": {},
   "outputs": [
    {
     "data": {
      "image/png": "[encoded data removed]",
      "text/plain": [
       "<Figure size 432x288 with 1 Axes>"
      ]
     },
     "metadata": {
      "needs_background": "light"
     },
     "output_type": "display_data"
    }
   ],
   "source": [
    "show_accuracy(history_1.history, epochs = 40)"
   ]
  },
  {
   "cell_type": "markdown",
   "metadata": {},
   "source": [
    "# Model 2"
   ]
  },
  {
   "cell_type": "code",
   "execution_count": 24,
   "metadata": {},
   "outputs": [],
   "source": [
    "network = models.Sequential()\n",
    "network.add(layers.Conv2D(32, (3, 3), activation = \"relu\", input_shape=(150, 150, 3)))\n",
    "network.add(layers.MaxPooling2D((2, 2)))\n",
    "network.add(layers.Conv2D(64, (3, 3), activation = \"relu\"))\n",
    "network.add(layers.MaxPooling2D((2, 2)))\n",
    "network.add(layers.Conv2D(128, (3, 3), activation = \"relu\"))\n",
    "network.add(layers.MaxPooling2D((2, 2)))\n",
    "network.add(layers.Flatten())\n",
    "network.add(layers.Dropout(0.5))\n",
    "network.add(layers.Dense(512, activation = \"relu\"))\n",
    "network.add(layers.Dense(1, activation = \"sigmoid\"))"
   ]
  },
  {
   "cell_type": "code",
   "execution_count": 25,
   "metadata": {},
   "outputs": [],
   "source": [
    "network.compile(optimizer = optimizers.RMSprop(lr=1e-3), loss=\"binary_crossentropy\", metrics=['accuracy'])"
   ]
  },
  {
   "cell_type": "code",
   "execution_count": 27,
   "metadata": {
    "scrolled": true
   },
   "outputs": [
    {
     "name": "stdout",
     "output_type": "stream",
     "text": [
      "Epoch 1/50\n"
     ]
    },
    {
     "name": "stderr",
     "output_type": "stream",
     "text": [
      "INFO:plaidml:Analyzing Ops: 73 of 223 operations complete\n"
     ]
    },
    {
     "name": "stdout",
     "output_type": "stream",
     "text": [
      "\r",
      " 1/63 [..............................] - ETA: 15:08 - loss: 0.7120 - acc: 0.4375"
     ]
    },
    {
     "name": "stderr",
     "output_type": "stream",
     "text": [
      "INFO:plaidml:Analyzing Ops: 73 of 223 operations complete\n"
     ]
    },
    {
     "name": "stdout",
     "output_type": "stream",
     "text": [
      "63/63 [==============================] - 65s 1s/step - loss: 1.4912 - acc: 0.5084 - val_loss: 0.6922 - val_acc: 0.5580\n",
      "Epoch 2/50\n",
      "63/63 [==============================] - 29s 458ms/step - loss: 0.7038 - acc: 0.5238 - val_loss: 0.6818 - val_acc: 0.5490\n",
      "Epoch 3/50\n",
      "63/63 [==============================] - 30s 478ms/step - loss: 0.7002 - acc: 0.5679 - val_loss: 0.6686 - val_acc: 0.5900\n",
      "Epoch 4/50\n",
      "63/63 [==============================] - 30s 479ms/step - loss: 0.6700 - acc: 0.6002 - val_loss: 0.6307 - val_acc: 0.6320\n",
      "Epoch 5/50\n",
      "63/63 [==============================] - 30s 476ms/step - loss: 0.6752 - acc: 0.6116 - val_loss: 0.6238 - val_acc: 0.6380\n",
      "Epoch 6/50\n",
      "63/63 [==============================] - 30s 477ms/step - loss: 0.6580 - acc: 0.6468 - val_loss: 0.6216 - val_acc: 0.6430\n",
      "Epoch 7/50\n",
      "63/63 [==============================] - 30s 475ms/step - loss: 0.6378 - acc: 0.6295 - val_loss: 0.6119 - val_acc: 0.6400\n",
      "Epoch 8/50\n",
      "63/63 [==============================] - 30s 477ms/step - loss: 0.6338 - acc: 0.6751 - val_loss: 0.5669 - val_acc: 0.7090\n",
      "Epoch 9/50\n",
      "63/63 [==============================] - 31s 496ms/step - loss: 0.6495 - acc: 0.6597 - val_loss: 0.6213 - val_acc: 0.6250\n",
      "Epoch 10/50\n",
      "63/63 [==============================] - 30s 482ms/step - loss: 0.6303 - acc: 0.6687 - val_loss: 0.5698 - val_acc: 0.6970\n",
      "Epoch 11/50\n",
      "63/63 [==============================] - 30s 484ms/step - loss: 0.6983 - acc: 0.6697 - val_loss: 0.5833 - val_acc: 0.6740\n",
      "Epoch 12/50\n",
      "63/63 [==============================] - 30s 475ms/step - loss: 0.6146 - acc: 0.6810 - val_loss: 0.5357 - val_acc: 0.7240\n",
      "Epoch 13/50\n",
      "63/63 [==============================] - 30s 476ms/step - loss: 0.5982 - acc: 0.6905 - val_loss: 0.7255 - val_acc: 0.6460\n",
      "Epoch 14/50\n",
      "63/63 [==============================] - 31s 487ms/step - loss: 0.5900 - acc: 0.6865 - val_loss: 0.5643 - val_acc: 0.6970\n",
      "Epoch 15/50\n",
      "63/63 [==============================] - 30s 473ms/step - loss: 0.6050 - acc: 0.6751 - val_loss: 0.7349 - val_acc: 0.6390\n",
      "Epoch 16/50\n",
      "63/63 [==============================] - 30s 478ms/step - loss: 0.5789 - acc: 0.7054 - val_loss: 0.5436 - val_acc: 0.7310\n",
      "Epoch 17/50\n",
      "63/63 [==============================] - 30s 480ms/step - loss: 0.6020 - acc: 0.6830 - val_loss: 0.5412 - val_acc: 0.7250\n",
      "Epoch 18/50\n",
      "63/63 [==============================] - 30s 476ms/step - loss: 0.5862 - acc: 0.7004 - val_loss: 0.5628 - val_acc: 0.7170\n",
      "Epoch 19/50\n",
      "63/63 [==============================] - 30s 475ms/step - loss: 0.5692 - acc: 0.7118 - val_loss: 0.5275 - val_acc: 0.7380\n",
      "Epoch 20/50\n",
      "63/63 [==============================] - 31s 489ms/step - loss: 0.5749 - acc: 0.6940 - val_loss: 0.5187 - val_acc: 0.7480\n",
      "Epoch 21/50\n",
      "63/63 [==============================] - 30s 479ms/step - loss: 0.5926 - acc: 0.6915 - val_loss: 0.5892 - val_acc: 0.7010\n",
      "Epoch 22/50\n",
      "63/63 [==============================] - 31s 487ms/step - loss: 0.5772 - acc: 0.7103 - val_loss: 0.6694 - val_acc: 0.6880\n",
      "Epoch 23/50\n",
      "63/63 [==============================] - 30s 484ms/step - loss: 0.5738 - acc: 0.7039 - val_loss: 0.5437 - val_acc: 0.7390\n",
      "Epoch 24/50\n",
      "63/63 [==============================] - 30s 477ms/step - loss: 0.5651 - acc: 0.7133 - val_loss: 0.5796 - val_acc: 0.7030\n",
      "Epoch 25/50\n",
      "63/63 [==============================] - 31s 486ms/step - loss: 0.5721 - acc: 0.7103 - val_loss: 0.5609 - val_acc: 0.7470\n",
      "Epoch 26/50\n",
      "63/63 [==============================] - 30s 482ms/step - loss: 0.5551 - acc: 0.7307 - val_loss: 0.5469 - val_acc: 0.7340\n",
      "Epoch 27/50\n",
      "63/63 [==============================] - 31s 485ms/step - loss: 0.5843 - acc: 0.7128 - val_loss: 0.5097 - val_acc: 0.7510\n",
      "Epoch 28/50\n",
      "63/63 [==============================] - 31s 484ms/step - loss: 0.5501 - acc: 0.7217 - val_loss: 0.5205 - val_acc: 0.7440\n",
      "Epoch 29/50\n",
      "63/63 [==============================] - 30s 477ms/step - loss: 0.5546 - acc: 0.7103 - val_loss: 0.5160 - val_acc: 0.7560\n",
      "Epoch 30/50\n",
      "63/63 [==============================] - 30s 482ms/step - loss: 0.5537 - acc: 0.7326 - val_loss: 0.5271 - val_acc: 0.7580\n",
      "Epoch 31/50\n",
      "63/63 [==============================] - 31s 486ms/step - loss: 0.5575 - acc: 0.7068 - val_loss: 0.5192 - val_acc: 0.7480\n",
      "Epoch 32/50\n",
      "63/63 [==============================] - 30s 479ms/step - loss: 0.5480 - acc: 0.7346 - val_loss: 0.5848 - val_acc: 0.7310\n",
      "Epoch 33/50\n",
      "63/63 [==============================] - 30s 477ms/step - loss: 0.5493 - acc: 0.7312 - val_loss: 0.6002 - val_acc: 0.6870\n",
      "Epoch 34/50\n",
      "63/63 [==============================] - 30s 482ms/step - loss: 0.5573 - acc: 0.7277 - val_loss: 0.5457 - val_acc: 0.7130\n",
      "Epoch 35/50\n",
      "63/63 [==============================] - 30s 476ms/step - loss: 0.5444 - acc: 0.7222 - val_loss: 0.5143 - val_acc: 0.7490\n",
      "Epoch 36/50\n",
      "63/63 [==============================] - 30s 483ms/step - loss: 0.5479 - acc: 0.7217 - val_loss: 0.5205 - val_acc: 0.7540\n",
      "Epoch 37/50\n",
      "63/63 [==============================] - 30s 480ms/step - loss: 0.5548 - acc: 0.7218 - val_loss: 0.6088 - val_acc: 0.7050\n",
      "Epoch 38/50\n",
      "63/63 [==============================] - 30s 481ms/step - loss: 0.5271 - acc: 0.7316 - val_loss: 0.5250 - val_acc: 0.7360\n",
      "Epoch 39/50\n",
      "63/63 [==============================] - 30s 473ms/step - loss: 0.5310 - acc: 0.7431 - val_loss: 0.5467 - val_acc: 0.7390\n",
      "Epoch 40/50\n",
      "63/63 [==============================] - 30s 477ms/step - loss: 0.5441 - acc: 0.7257 - val_loss: 0.5397 - val_acc: 0.7090\n",
      "Epoch 41/50\n",
      "63/63 [==============================] - 30s 475ms/step - loss: 0.5435 - acc: 0.7480 - val_loss: 0.5033 - val_acc: 0.7640\n",
      "Epoch 42/50\n",
      "63/63 [==============================] - 30s 476ms/step - loss: 0.5411 - acc: 0.7311 - val_loss: 0.5471 - val_acc: 0.7410\n",
      "Epoch 43/50\n",
      "63/63 [==============================] - 30s 477ms/step - loss: 0.5375 - acc: 0.7331 - val_loss: 0.5531 - val_acc: 0.7290\n",
      "Epoch 44/50\n",
      "63/63 [==============================] - 33s 526ms/step - loss: 0.5464 - acc: 0.7500 - val_loss: 0.5230 - val_acc: 0.7500\n",
      "Epoch 45/50\n",
      "63/63 [==============================] - 30s 475ms/step - loss: 0.5288 - acc: 0.7465 - val_loss: 0.5939 - val_acc: 0.7350\n",
      "Epoch 46/50\n",
      "63/63 [==============================] - 30s 479ms/step - loss: 0.5374 - acc: 0.7292 - val_loss: 0.5508 - val_acc: 0.7160\n",
      "Epoch 47/50\n",
      "63/63 [==============================] - 30s 479ms/step - loss: 0.5461 - acc: 0.7346 - val_loss: 0.5210 - val_acc: 0.7430\n",
      "Epoch 48/50\n",
      "63/63 [==============================] - 30s 478ms/step - loss: 0.5235 - acc: 0.7426 - val_loss: 0.5154 - val_acc: 0.7490\n",
      "Epoch 49/50\n",
      "63/63 [==============================] - 30s 476ms/step - loss: 0.5305 - acc: 0.7401 - val_loss: 0.4929 - val_acc: 0.7690\n",
      "Epoch 50/50\n",
      "63/63 [==============================] - 30s 479ms/step - loss: 0.5313 - acc: 0.7381 - val_loss: 0.4969 - val_acc: 0.7450\n"
     ]
    }
   ],
   "source": [
    "history_1 = network.fit_generator(train_set, steps_per_epoch=len(train_set), epochs = 50, validation_data = validation_set, validation_steps = len(validation_set))"
   ]
  },
  {
   "cell_type": "code",
   "execution_count": 28,
   "metadata": {},
   "outputs": [],
   "source": [
    "network.save('model.h5')"
   ]
  },
  {
   "cell_type": "code",
   "execution_count": 30,
   "metadata": {},
   "outputs": [
    {
     "data": {
      "image/png": "[encoded data removed]",
      "text/plain": [
       "<Figure size 432x288 with 1 Axes>"
      ]
     },
     "metadata": {
      "needs_background": "light"
     },
     "output_type": "display_data"
    }
   ],
   "source": [
    "show_loss(history_1.history, epochs = 50)"
   ]
  },
  {
   "cell_type": "code",
   "execution_count": 32,
   "metadata": {},
   "outputs": [
    {
     "data": {
      "image/png": "[encoded data removed]",
      "text/plain": [
       "<Figure size 432x288 with 1 Axes>"
      ]
     },
     "metadata": {
      "needs_background": "light"
     },
     "output_type": "display_data"
    }
   ],
   "source": [
    "show_accuracy(history_1.history, epochs = 50)"
   ]
  },
  {
   "cell_type": "code",
   "execution_count": null,
   "metadata": {},
   "outputs": [],
   "source": []
  }
 ],
 "metadata": {
  "kernelspec": {
   "display_name": "Python 3",
   "language": "python",
   "name": "python3"
  },
  "language_info": {
   "codemirror_mode": {
    "name": "ipython",
    "version": 3
   },
   "file_extension": ".py",
   "mimetype": "text/x-python",
   "name": "python",
   "nbconvert_exporter": "python",
   "pygments_lexer": "ipython3",
   "version": "3.7.3"
  }
 },
 "nbformat": 4,
 "nbformat_minor": 2
}
